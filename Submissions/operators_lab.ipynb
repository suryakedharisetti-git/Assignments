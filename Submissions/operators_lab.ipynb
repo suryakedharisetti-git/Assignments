{
 "cells": [
  {
   "cell_type": "code",
   "execution_count": null,
   "id": "e5d04e16",
   "metadata": {},
   "outputs": [
    {
     "name": "stdout",
     "output_type": "stream",
     "text": [
      "3\n"
     ]
    }
   ],
   "source": [
    "#A1 In one cell, write 5 different arithmetic expressions mixing + - * / // % ** and parentheses.\n",
    "\n",
    "a=5\n",
    "b=3\n",
    "result=a+b*b**a//b%a-a\n",
    "print(result)       "
   ]
  },
  {
   "cell_type": "code",
   "execution_count": null,
   "id": "0e122207",
   "metadata": {},
   "outputs": [],
   "source": [
    "#b1\n",
    "a = 5\n",
    "b = 2\n",
    "result = a + b * b ** a // b % a - a\n",
    "b ** a = 2 ** 5 = 32\n",
    "b * 32 = 2 * 32 = 64\n",
    "64 // 2 = 32\n",
    "32 % 5 = 2\n",
    "result = a + 2 - a\n",
    "result = 5 + 2 - 5\n",
    "result = 2\n"
   ]
  },
  {
   "cell_type": "code",
   "execution_count": null,
   "id": "17a69d23",
   "metadata": {},
   "outputs": [],
   "source": [
    "#b2\n",
    "a = 5\n",
    "b = 2\n",
    "result = a + b * b**a // b % a - a\n",
    "b**a = 2**5 = 32\n",
    "2 * 32 = 64\n",
    "64 // 2 = 32\n",
    "32 % 5 = 2\n",
    "5 + 2 = 7\n",
    "7 - 5 = 2\n",
    "Result is 2"
   ]
  },
  {
   "cell_type": "code",
   "execution_count": null,
   "id": "291bca1c",
   "metadata": {},
   "outputs": [
    {
     "name": "stdout",
     "output_type": "stream",
     "text": [
      "10\n",
      "512\n",
      "True\n",
      "True\n",
      "9\n",
      "22.0\n",
      "12\n",
      "0\n",
      "-6\n",
      "4\n",
      "9\n"
     ]
    }
   ],
   "source": [
    "#c1\n",
    "print(10 // 3 * 3 + 10 % 3)\n",
    "10\n",
    "print(2 ** 3 ** 2)\n",
    "512\n",
    "print(5 > 3 == 3)\n",
    "True (5>3) and (3==3) -> True and True = True\n",
    "print((7 + 3) * 2 > 15 and not (4 % 2))\n",
    "True (7+3)*2>15 and not(0) -> True and True -> True\n",
    "print((True + True) * 5 - (False + True))\n",
    "print(100 / 10 * 2 + 5 // 2)\n",
    "22\n",
    "print(7 % 4 * 2 ** 2)\n",
    "12\n",
    "print((3 + 5) * (2 // 3))\n",
    "0\n",
    "print(10 - 2 ** 2 ** 2)\n",
    "-6\n",
    "print((10 // 3) ** 2 % 5)\n",
    "4\n",
    "print((True + False) * 3 ** 2 - (True and False))\n",
    "9"
   ]
  },
  {
   "cell_type": "code",
   "execution_count": null,
   "id": "8060dd3e",
   "metadata": {},
   "outputs": [],
   "source": [
    "#b3\n",
    "a = 5\n",
    "b = 2\n",
    " b**a = 2**5 = 32\n",
    " b * 32 = 64\n",
    "64 // b = 64 // 2 = 32\n",
    "32 % a = 32 % 5 = 2\n",
    " a + 2 = 5 + 2 = 7\n",
    "7 - a = 7 - 5 = 2\n",
    "result = a + b * b**a // b % a - a\n",
    "Result is 2"
   ]
  },
  {
   "cell_type": "code",
   "execution_count": 2,
   "id": "9f4367f8",
   "metadata": {},
   "outputs": [],
   "source": [
    "#D1\n",
    "def consult_cals(ab, bc, ac):\n",
    "    history=[]\n",
    "    result=ab\n",
    "    for a in ac:\n",
    "        if a == \"+\":\n",
    "            result=result + bc\n",
    "        elif a == \"-\":\n",
    "            result=result + bc\n",
    "        elif  a == \"*\":\n",
    "            result=result * bc\n",
    "        elif a == \"/\":\n",
    "            result=result / bc\n",
    "        history.append (a,result)\n",
    "    return history\n",
    "\n",
    "        \n",
    "\n",
    "\n"
   ]
  },
  {
   "cell_type": "markdown",
   "id": "65ab95a9",
   "metadata": {},
   "source": [
    "#E1\n",
    "In financial forecasting, even small mistakes in formulas can cause large errors in results. This happens because computers follow strict rules called operator precedence—the order in which operations are carried out. Multiplication and division happen before addition and subtraction, unless parentheses are used to change the order.\n",
    "\n",
    "Take the expressions (revenue – cost) * tax_rate and revenue – cost * tax_rate. They may look similar, but they give very different outcomes. In the first case, you correctly find profit (revenue minus cost) and then apply the tax rate. In the second, the computer first multiplies cost by the tax rate, then subtracts it from revenue, which produces the wrong financial picture. This simple oversight can lead to major errors in taxation or profit forecasting.\n",
    "\n",
    "Now consider a bank’s interest formula: principal * (1 + rate/n) ** (n * t). Parentheses here are essential. The correct order is: divide the rate by n, add 1, raise it to the power of n * t (total compounding periods), and finally multiply by principal. If parentheses were misplaced—for example, principal * (1 + rate) / n ** (n * t)—the calculation would happen in the wrong sequence, giving false interest values.\n",
    "\n",
    "In finance, precision is critical. Operator precedence ensures formulas capture the intended logic, preventing costly errors in forecasting, taxation, and interest calculations."
   ]
  }
 ],
 "metadata": {
  "kernelspec": {
   "display_name": "Python 3",
   "language": "python",
   "name": "python3"
  },
  "language_info": {
   "codemirror_mode": {
    "name": "ipython",
    "version": 3
   },
   "file_extension": ".py",
   "mimetype": "text/x-python",
   "name": "python",
   "nbconvert_exporter": "python",
   "pygments_lexer": "ipython3",
   "version": "3.13.2"
  }
 },
 "nbformat": 4,
 "nbformat_minor": 5
}
