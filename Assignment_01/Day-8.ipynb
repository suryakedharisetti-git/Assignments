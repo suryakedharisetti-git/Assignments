{
 "cells": [
  {
   "cell_type": "code",
   "execution_count": 9,
   "id": "1db9af29",
   "metadata": {},
   "outputs": [
    {
     "name": "stdout",
     "output_type": "stream",
     "text": [
      "Series1:\n",
      "A    100\n",
      "B    200\n",
      "C    300\n",
      "D    400\n",
      "E    500\n",
      "dtype: int64\n",
      "\n",
      "Series2:\n",
      "A     200\n",
      "B     400\n",
      "C     600\n",
      "D     800\n",
      "E    1000\n",
      "dtype: int64\n"
     ]
    }
   ],
   "source": [
    "#1\n",
    "import pandas as pd\n",
    "Series1 = pd.Series([100, 200, 300, 400, 500], index=['A', 'B', 'C', 'D', 'E'])\n",
    "Series2=Series1*2\n",
    "print(\"Series1:\")\n",
    "print(Series1)\n",
    "print(\"\\nSeries2:\")\n",
    "print(Series2)"
   ]
  },
  {
   "cell_type": "code",
   "execution_count": null,
   "id": "95823c0c",
   "metadata": {},
   "outputs": [],
   "source": [
    "#2\n",
    "# State whether True or False\n",
    "# a. A series object is size mutable.          \n",
    "# b. A Dataframe object is value mutable.  \n",
    "     #False\n",
    "     #True"
   ]
  },
  {
   "cell_type": "code",
   "execution_count": null,
   "id": "ade45376",
   "metadata": {},
   "outputs": [
    {
     "data": {
      "text/plain": [
       "0    200\n",
       "1    201\n",
       "2    202\n",
       "3    203\n",
       "4    204\n",
       "dtype: int64"
      ]
     },
     "metadata": {},
     "output_type": "display_data"
    }
   ],
   "source": [
    "#3\n",
    "import pandas as pd\n",
    "Series1 = pd.Series([200, 201, 202, 203, 204, 700, 700, 700, 700, 700])\n",
    "Series = pd.Series([200, 201, 202, 203, 204])\n",
    "display(Series)\n"
   ]
  },
  {
   "cell_type": "code",
   "execution_count": 22,
   "id": "63cb3f7a",
   "metadata": {},
   "outputs": [
    {
     "name": "stdout",
     "output_type": "stream",
     "text": [
      "95\n",
      "IP           105\n",
      "physics       99\n",
      "chemistry    102\n",
      "math         105\n",
      "dtype: int64\n"
     ]
    }
   ],
   "source": [
    "#4\n",
    "s = pd.Series([95, 89, 92, 95], index=[\"IP\", \"physics\", \"chemistry\", \"math\"])\n",
    "print(s[\"IP\"])\n",
    "s=s+10\n",
    "print(s)"
   ]
  },
  {
   "cell_type": "code",
   "execution_count": 37,
   "id": "efdc00ba",
   "metadata": {},
   "outputs": [
    {
     "name": "stdout",
     "output_type": "stream",
     "text": [
      "sales Quarterly report (SQTR)\n",
      "QTR1    50000\n",
      "QTR2    65890\n",
      "QTR3    56780\n",
      "QTR4    89000\n",
      "QTR5    77900\n",
      "dtype: int64\n"
     ]
    }
   ],
   "source": [
    "#5\n",
    "import pandas as pd\n",
    "SQTR = pd.Series([50000, 65890, 56780, 89000, 77900], index=[\"QTR1\", \"QTR2\", \"QTR3\", \"QTR4\", \"QTR5\"])\n",
    "print(\"sales Quarterly report (SQTR)\")\n",
    "print(SQTR)\n",
    "\n"
   ]
  },
  {
   "cell_type": "code",
   "execution_count": null,
   "id": "9a7621ea",
   "metadata": {},
   "outputs": [
    {
     "name": "stdout",
     "output_type": "stream",
     "text": [
      "0    False\n",
      "1     True\n",
      "2     True\n",
      "dtype: bool\n",
      "1    41\n",
      "2    51\n",
      "dtype: int64\n"
     ]
    }
   ],
   "source": [
    "#6\n",
    "S1 = pd.Series(data=[31, 41, 51])\n",
    "print(S1 > 40)\n",
    "print(S1[S1 > 40])"
   ]
  },
  {
   "cell_type": "code",
   "execution_count": 39,
   "id": "0e45f008",
   "metadata": {},
   "outputs": [
    {
     "name": "stdout",
     "output_type": "stream",
     "text": [
      "a. S1[:2] * 100\n",
      "A    3900\n",
      "B    4100\n",
      "dtype: int64\n",
      "\n",
      "b. S1 * S2\n",
      "A    390.0\n",
      "B    410.0\n",
      "C      NaN\n",
      "D    440.0\n",
      "F      NaN\n",
      "dtype: float64\n",
      "\n",
      "c. S2[::-1] * 10\n",
      "F    100\n",
      "D    100\n",
      "B    100\n",
      "A    100\n",
      "dtype: int64\n"
     ]
    }
   ],
   "source": [
    "#7\n",
    "S1 = pd.Series([39, 41, 42, 44], index=[\"A\", \"B\", \"C\", \"D\"])\n",
    "S2 = pd.Series([10, 10, 10, 10], index=[\"A\", \"B\", \"D\", \"F\"])\n",
    "print(\"a. S1[:2] * 100\")\n",
    "print(S1[:2] * 100)\n",
    "print(\"\\nb. S1 * S2\")\n",
    "print(S1 * S2)\n",
    "print(\"\\nc. S2[::-1] * 10\")\n",
    "print(S2[::-1] * 10)"
   ]
  },
  {
   "cell_type": "code",
   "execution_count": 40,
   "id": "3cd3ce17",
   "metadata": {},
   "outputs": [
    {
     "name": "stdout",
     "output_type": "stream",
     "text": [
      "A     50\n",
      "B     80\n",
      "C    180\n",
      "D    320\n",
      "dtype: int64\n"
     ]
    }
   ],
   "source": [
    "#8\n",
    "S1 = pd.Series([10, 20, 30, 40], index=[\"A\", \"B\", \"C\", \"D\"])\n",
    "S2 = pd.Series([5, 4, 6, 8], index=[\"A\", \"B\", \"C\", \"D\"])\n",
    "result = S1 * S2\n",
    "print(result)"
   ]
  },
  {
   "cell_type": "code",
   "execution_count": null,
   "id": "e598ec56",
   "metadata": {},
   "outputs": [
    {
     "name": "stdout",
     "output_type": "stream",
     "text": [
      "Marks in different subjects:\n",
      "ENGLISH    75\n",
      "HINDI      78\n",
      "MATHS      82\n",
      "SCIENCE    86\n",
      "dtype: int64\n"
     ]
    }
   ],
   "source": [
    "#9\n",
    "Subject = pd.Series([75, 78, 82, 86], \n",
    "                    index=[\"ENGLISH\", \"HINDI\", \"MATHS\", \"SCIENCE\"])\n",
    "\n",
    "print(\"Marks in different subjects:\")\n",
    "\n",
    "print(Subject)"
   ]
  },
  {
   "cell_type": "code",
   "execution_count": null,
   "id": "1c31af94",
   "metadata": {},
   "outputs": [
    {
     "name": "stdout",
     "output_type": "stream",
     "text": [
      "TCS    350\n",
      "L&T    800\n",
      "dtype: int64\n",
      "TCS         350\n",
      "Reliance    200\n",
      "L&T         800\n",
      "Wipro       150\n",
      "Name: Profit, dtype: int64\n"
     ]
    }
   ],
   "source": [
    "#10\n",
    "company = pd.Series([350, 200, 800, 150], \n",
    "                    index=[\"TCS\", \"Reliance\", \"L&T\", \"Wipro\"])\n",
    "\n",
    "print(company[company > 250])\n",
    "\n",
    "company.name = \"Profit\"\n",
    "print(company)"
   ]
  },
  {
   "cell_type": "code",
   "execution_count": null,
   "id": "eaec5e1f",
   "metadata": {},
   "outputs": [
    {
     "name": "stdout",
     "output_type": "stream",
     "text": [
      "a * 2 →\n",
      "[10, 20, 25, 50, 10, 20, 25, 50]\n",
      "\n",
      "b * 2 →\n",
      "0     20\n",
      "1     40\n",
      "2     50\n",
      "3    100\n",
      "dtype: int64\n"
     ]
    }
   ],
   "source": [
    "#11\n",
    "a = [10, 20, 25, 50]\n",
    " \n",
    "b = pd.Series([10, 20, 25, 50])\n",
    "\n",
    "print(\"a * 2 →\")\n",
    "print(a * 2)\n",
    "\n",
    "print(\"\\nb * 2 →\")\n",
    "print(b * 2)"
   ]
  },
  {
   "cell_type": "code",
   "execution_count": null,
   "id": "8012bf80",
   "metadata": {},
   "outputs": [],
   "source": [
    "#12\n",
    "Given a Pandas series called Sample, the command which will display the last 3 rows is. \n",
    "a. print(Sample.tail(3)) \n",
    "b. print(Sample.Tail(3)) \n",
    "c. print(Sample.tails(3) \n",
    "d. print(Sample.Tails(3))\n",
    "\n",
    "A. print(Sample.tail(3))"
   ]
  },
  {
   "cell_type": "code",
   "execution_count": 48,
   "id": "f9530bd5",
   "metadata": {},
   "outputs": [
    {
     "name": "stdout",
     "output_type": "stream",
     "text": [
      "0    6\n",
      "1    6\n",
      "2    6\n",
      "3    6\n",
      "4    6\n",
      "dtype: int64\n"
     ]
    }
   ],
   "source": [
    "#13\n",
    "s = pd.Series(6, index=range(0,5))\n",
    "print(s)"
   ]
  },
  {
   "cell_type": "code",
   "execution_count": 96,
   "id": "99af37de",
   "metadata": {},
   "outputs": [
    {
     "name": "stdout",
     "output_type": "stream",
     "text": [
      "7     5\n",
      "9     4\n",
      "11    8\n",
      "dtype: int64\n"
     ]
    }
   ],
   "source": [
    "#14\n",
    "s1=pd.Series([6,1,3,5,4,8,7,4,6,7], index=[1,3,5,7,9,11,13,15,17,19])\n",
    "print(s1[3:6])\n"
   ]
  },
  {
   "cell_type": "code",
   "execution_count": null,
   "id": "4b39747c",
   "metadata": {},
   "outputs": [
    {
     "name": "stdout",
     "output_type": "stream",
     "text": [
      "0    10\n",
      "1    20\n",
      "2    30\n",
      "3    40\n",
      "dtype: int64\n",
      "1\n",
      "(4,)\n",
      "4\n"
     ]
    }
   ],
   "source": [
    "#15\n",
    "s = pd.Series(np.arange(10,50,10))\n",
    "print(s)\n",
    "print(s.ndim)\n",
    "print(s.shape)\n",
    "print(len(s))"
   ]
  },
  {
   "cell_type": "code",
   "execution_count": 50,
   "id": "5680e4cc",
   "metadata": {},
   "outputs": [
    {
     "name": "stdout",
     "output_type": "stream",
     "text": [
      "Series with 10 random numbers between 10 and 20:\n",
      "0    18\n",
      "1    15\n",
      "2    10\n",
      "3    20\n",
      "4    12\n",
      "5    20\n",
      "6    19\n",
      "7    16\n",
      "8    13\n",
      "9    19\n",
      "dtype: int32\n"
     ]
    }
   ],
   "source": [
    "#16\n",
    "s = pd.Series(np.random.randint(10, 21, size=10))\n",
    "\n",
    "print(\"Series with 10 random numbers between 10 and 20:\")\n",
    "print(s)"
   ]
  },
  {
   "cell_type": "code",
   "execution_count": 51,
   "id": "3387b18d",
   "metadata": {},
   "outputs": [
    {
     "name": "stdout",
     "output_type": "stream",
     "text": [
      "After adding 1 to all elements:\n",
      "0     5.0\n",
      "1     6.0\n",
      "2     8.0\n",
      "3     NaN\n",
      "4     2.0\n",
      "5    11.0\n",
      "dtype: float64\n",
      "\n",
      "After replacing NaN with 0:\n",
      "0     4.0\n",
      "1     5.0\n",
      "2     7.0\n",
      "3     0.0\n",
      "4     1.0\n",
      "5    10.0\n",
      "dtype: float64\n"
     ]
    }
   ],
   "source": [
    "#17\n",
    "s = pd.Series([4.0, 5.0, 7.0, np.nan, 1.0, 10.0])\n",
    "s1 = s + 1\n",
    "print(\"After adding 1 to all elements:\")\n",
    "print(s1)\n",
    "s2 = s.fillna(0)\n",
    "print(\"\\nAfter replacing NaN with 0:\")\n",
    "print(s2)"
   ]
  },
  {
   "cell_type": "code",
   "execution_count": 52,
   "id": "1d5d6026",
   "metadata": {},
   "outputs": [
    {
     "name": "stdout",
     "output_type": "stream",
     "text": [
      "one      a\n",
      "two      b\n",
      "three    c\n",
      "dtype: object\n",
      "3\n"
     ]
    }
   ],
   "source": [
    "#18\n",
    "data = {'one':'a','two':'b','three':'c'}\n",
    "s = pd.Series(data)\n",
    "\n",
    "print(s)\n",
    "print(s.size)   "
   ]
  },
  {
   "cell_type": "code",
   "execution_count": 53,
   "id": "48ccc5b7",
   "metadata": {},
   "outputs": [
    {
     "name": "stdout",
     "output_type": "stream",
     "text": [
      "0    2\n",
      "1    4\n",
      "2    6\n",
      "3    8\n",
      "dtype: int64\n"
     ]
    }
   ],
   "source": [
    "#19\n",
    "S1 = pd.Series([2, 4, 6, 8])\n",
    "\n",
    "print(S1)"
   ]
  },
  {
   "cell_type": "code",
   "execution_count": 54,
   "id": "2656ceb9",
   "metadata": {},
   "outputs": [
    {
     "name": "stdout",
     "output_type": "stream",
     "text": [
      "0          i\n",
      "1         am\n",
      "2          a\n",
      "3    student\n",
      "dtype: object\n"
     ]
    }
   ],
   "source": [
    "#20\n",
    "s2 = pd.Series([\"i\", \"am\", \"a\", \"student\"])\n",
    "print(s2)"
   ]
  },
  {
   "cell_type": "code",
   "execution_count": 55,
   "id": "8a213d07",
   "metadata": {},
   "outputs": [
    {
     "name": "stdout",
     "output_type": "stream",
     "text": [
      "2     200\n",
      "4     200\n",
      "6     200\n",
      "8     200\n",
      "10    200\n",
      "12    200\n",
      "dtype: int64\n"
     ]
    }
   ],
   "source": [
    "#21\n",
    "s1 = pd.Series(200, index=range(2,13,2))\n",
    "print(s1)\n"
   ]
  },
  {
   "cell_type": "code",
   "execution_count": 56,
   "id": "d1256b96",
   "metadata": {},
   "outputs": [
    {
     "name": "stdout",
     "output_type": "stream",
     "text": [
      "a     2\n",
      "b     4\n",
      "c     6\n",
      "d     8\n",
      "e    10\n",
      "dtype: int64\n"
     ]
    }
   ],
   "source": [
    "#22\n",
    "s1 = pd.Series(range(2, 11, 2), index=[x for x in \"abcde\"])\n",
    "print(s1)"
   ]
  },
  {
   "cell_type": "code",
   "execution_count": 59,
   "id": "5990fe2c",
   "metadata": {},
   "outputs": [
    {
     "name": "stdout",
     "output_type": "stream",
     "text": [
      "10    20\n",
      "11    22\n",
      "12    24\n",
      "13    26\n",
      "14    28\n",
      "dtype: int64\n",
      "10    100\n",
      "11    121\n",
      "12    144\n",
      "13    169\n",
      "14    196\n",
      "dtype: int64\n"
     ]
    }
   ],
   "source": [
    "#23\n",
    "x = np.arange(10, 15)           \n",
    "\n",
    "s3 = pd.Series(index=x, data=x*2)  \n",
    "s4 = pd.Series(x**2, x)             \n",
    "\n",
    "print(s3)\n",
    "print(s4)"
   ]
  },
  {
   "cell_type": "code",
   "execution_count": 60,
   "id": "ccdc2cc2",
   "metadata": {},
   "outputs": [
    {
     "name": "stdout",
     "output_type": "stream",
     "text": [
      "Doubled Contributions by Section:\n",
      "A    17800.0\n",
      "B    17400.0\n",
      "C    15600.0\n",
      "D    13000.0\n",
      "E        NaN\n",
      "dtype: float32\n"
     ]
    }
   ],
   "source": [
    "#24\n",
    "sections = ['A', 'B', 'C', 'D', 'E']\n",
    "contributions = [8900, 8700, 7800, 6500, np.nan]  \n",
    "\n",
    "contrib_series = pd.Series(data=np.array(contributions, dtype=np.float32) * 2, \n",
    "                           index=sections, \n",
    "                           dtype=np.float32)\n",
    "print(\"Doubled Contributions by Section:\")\n",
    "print(contrib_series)"
   ]
  },
  {
   "cell_type": "code",
   "execution_count": 61,
   "id": "b5397c06",
   "metadata": {},
   "outputs": [
    {
     "name": "stdout",
     "output_type": "stream",
     "text": [
      "a     5.25\n",
      "b    15.50\n",
      "a    25.75\n",
      "a    36.00\n",
      "b    46.25\n",
      "dtype: float64\n",
      "a     5.25\n",
      "a    25.75\n",
      "a    36.00\n",
      "dtype: float64\n",
      "b    15.50\n",
      "b    46.25\n",
      "dtype: float64\n"
     ]
    }
   ],
   "source": [
    "#25\n",
    "val1 = np.arange(5.25, 50, 10.25)  # [5.25, 15.5, 25.75, 36.0, 46.25]\n",
    "ser1 = pd.Series(val1, index=['a','b','a','a','b'])\n",
    "\n",
    "print(ser1)\n",
    "print(ser1['a'])\n",
    "print(ser1['b'])"
   ]
  },
  {
   "cell_type": "code",
   "execution_count": 62,
   "id": "adb1801b",
   "metadata": {},
   "outputs": [
    {
     "name": "stdout",
     "output_type": "stream",
     "text": [
      "Number of students in each section:\n",
      "A    39\n",
      "B    31\n",
      "C    32\n",
      "D    34\n",
      "E    35\n",
      "dtype: int64\n",
      "\n",
      "Collection from Section A and B:\n",
      "A    3900\n",
      "B    3100\n",
      "dtype: int64\n"
     ]
    }
   ],
   "source": [
    "#26\n",
    "s10 = pd.Series([39, 31, 32, 34, 35], \n",
    "                index=['A', 'B', 'C', 'D', 'E'])\n",
    "\n",
    "ticket_price = 100\n",
    "\n",
    "collections = s10[['A', 'B']] * ticket_price\n",
    "\n",
    "print(\"Number of students in each section:\")\n",
    "print(s10)\n",
    "\n",
    "print(\"\\nCollection from Section A and B:\")\n",
    "print(collections)"
   ]
  },
  {
   "cell_type": "code",
   "execution_count": 63,
   "id": "98f39c8b",
   "metadata": {},
   "outputs": [
    {
     "name": "stdout",
     "output_type": "stream",
     "text": [
      "0     1.75\n",
      "1    17.45\n",
      "2   -23.74\n",
      "3   -23.74\n",
      "4    33.76\n",
      "dtype: float64\n"
     ]
    }
   ],
   "source": [
    "#27\n",
    "s4 = pd.Series([2.50, 17.45, 20.25, 87.25, 33.76])\n",
    "\n",
    "s4[0] = 1.75\n",
    "s4[2:4] = -23.74\n",
    "\n",
    "print(s4)"
   ]
  },
  {
   "cell_type": "code",
   "execution_count": 74,
   "id": "3dc08175",
   "metadata": {},
   "outputs": [
    {
     "name": "stdout",
     "output_type": "stream",
     "text": [
      "a      2.00\n",
      "b    345.60\n",
      "c    -14.65\n",
      "d    -14.65\n",
      "e      6.00\n",
      "dtype: float64\n"
     ]
    },
    {
     "name": "stderr",
     "output_type": "stream",
     "text": [
      "C:\\Users\\surya\\AppData\\Local\\Temp\\ipykernel_26744\\3755616089.py:3: FutureWarning: Setting an item of incompatible dtype is deprecated and will raise an error in a future version of pandas. Value '345.6' has dtype incompatible with int64, please explicitly cast to a compatible dtype first.\n",
      "  s1[1:5:2] = 345.6\n"
     ]
    }
   ],
   "source": [
    "#28\n",
    "s1 = pd.Series([2,3,4,5,6], index=['a','b','c','d','e'])\n",
    "s1[1:5:2] = 345.6\n",
    "s1[2:4] = -14.65\n",
    "print(s1)"
   ]
  },
  {
   "cell_type": "code",
   "execution_count": 70,
   "id": "57a6ba9f",
   "metadata": {},
   "outputs": [
    {
     "name": "stdout",
     "output_type": "stream",
     "text": [
      "A    8800\n",
      "B    8700\n",
      "C    7700\n",
      "D    7700\n",
      "dtype: int64\n"
     ]
    }
   ],
   "source": [
    "#29\n",
    "s12 = pd.Series([8900, 8700, 7800, 6500], index=['A', 'B', 'C', 'D'])\n",
    "\n",
    "s12['A'] = 8800\n",
    "s12[['C', 'D']] = 7700\n",
    "\n",
    "print(s12)"
   ]
  },
  {
   "cell_type": "code",
   "execution_count": 75,
   "id": "3648cb9f",
   "metadata": {},
   "outputs": [
    {
     "name": "stdout",
     "output_type": "stream",
     "text": [
      "First 100 rows:\n",
      "0       1\n",
      "1       2\n",
      "2       3\n",
      "3       4\n",
      "4       5\n",
      "     ... \n",
      "95     96\n",
      "96     97\n",
      "97     98\n",
      "98     99\n",
      "99    100\n",
      "Length: 100, dtype: int64\n",
      "\n",
      "Last 5 rows:\n",
      "1995    1996\n",
      "1996    1997\n",
      "1997    1998\n",
      "1998    1999\n",
      "1999    2000\n",
      "dtype: int64\n"
     ]
    }
   ],
   "source": [
    "#30\n",
    "trainingdata = pd.Series(np.arange(1, 2001))\n",
    "\n",
    "print(\"First 100 rows:\")\n",
    "print(trainingdata.head(100))\n",
    "\n",
    "print(\"\\nLast 5 rows:\")\n",
    "print(trainingdata.tail(5))"
   ]
  },
  {
   "cell_type": "code",
   "execution_count": 77,
   "id": "303c4372",
   "metadata": {},
   "outputs": [
    {
     "name": "stdout",
     "output_type": "stream",
     "text": [
      "Original Series:\n",
      "a    1.5\n",
      "b    3.0\n",
      "c    4.5\n",
      "d    6.0\n",
      "e    7.5\n",
      "dtype: float64\n",
      "\n",
      "(i) s3 + 3:\n",
      "a     4.5\n",
      "b     6.0\n",
      "c     7.5\n",
      "d     9.0\n",
      "e    10.5\n",
      "dtype: float64\n",
      "\n",
      "(ii) s3 * 2:\n",
      "a     3.0\n",
      "b     6.0\n",
      "c     9.0\n",
      "d    12.0\n",
      "e    15.0\n",
      "dtype: float64\n",
      "\n",
      "(iii) s3 > 3.0:\n",
      "a    False\n",
      "b    False\n",
      "c     True\n",
      "d     True\n",
      "e     True\n",
      "dtype: bool\n",
      "\n",
      "(iv) s3[s3 > 3.0]:\n",
      "c    4.5\n",
      "d    6.0\n",
      "e    7.5\n",
      "dtype: float64\n"
     ]
    }
   ],
   "source": [
    "#31\n",
    "import pandas as pd\n",
    "\n",
    "s3 = pd.Series([1.5, 3.0, 4.5, 6.0, 7.5], \n",
    "               index=['a', 'b', 'c', 'd', 'e'])\n",
    "\n",
    "print(\"Original Series:\")\n",
    "print(s3)\n",
    "\n",
    "print(\"\\n(i) s3 + 3:\")\n",
    "print(s3 + 3)\n",
    "\n",
    "print(\"\\n(ii) s3 * 2:\")\n",
    "print(s3 * 2)\n",
    "\n",
    "print(\"\\n(iii) s3 > 3.0:\")\n",
    "print(s3 > 3.0)\n",
    "\n",
    "print(\"\\n(iv) s3[s3 > 3.0]:\")\n",
    "print(s3[s3 > 3.0])\n"
   ]
  },
  {
   "cell_type": "code",
   "execution_count": 79,
   "id": "6155ca2c",
   "metadata": {},
   "outputs": [
    {
     "name": "stdout",
     "output_type": "stream",
     "text": [
      "Contributions of each section:\n",
      "A    6700\n",
      "B    8000\n",
      "C    5400\n",
      "D    3400\n",
      "dtype: int64\n"
     ]
    }
   ],
   "source": [
    "#32\n",
    "s12 = pd.Series([6700, 8000, 5400, 3400], \n",
    "                index=['A', 'B', 'C', 'D'])\n",
    "\n",
    "print(\"Contributions of each section:\")\n",
    "print(s12)"
   ]
  },
  {
   "cell_type": "code",
   "execution_count": 89,
   "id": "a6d70b45",
   "metadata": {},
   "outputs": [
    {
     "name": "stdout",
     "output_type": "stream",
     "text": [
      "Sections with contribution > 5600:\n",
      "A    6700\n",
      "B    8000\n",
      "dtype: int64\n",
      "\n",
      "Class 11 students:\n",
      "Science       160\n",
      "Commerce      130\n",
      "Humanities    120\n",
      "dtype: int64\n",
      "\n",
      "Class 12 students:\n",
      "Science       140\n",
      "Commerce      120\n",
      "Humanities    160\n",
      "dtype: int64\n",
      "\n",
      "Total students stream-wise:\n",
      "Science       300\n",
      "Commerce      250\n",
      "Humanities    280\n",
      "dtype: int64\n",
      "\n",
      "Grand total of students in class 11 and 12: 830\n"
     ]
    }
   ],
   "source": [
    "#33\n",
    "s12 = pd.Series([6700, 8000, 5400, 3400], \n",
    "                index=['A', 'B', 'C', 'D'])\n",
    "\n",
    "print(\"Sections with contribution > 5600:\")\n",
    "print(s12[s12 > 5600])\n",
    "\n",
    "c11 = pd.Series([160, 130, 120], index=['Science', 'Commerce', 'Humanities'])\n",
    "c12 = pd.Series([140, 120, 160], index=['Science', 'Commerce', 'Humanities'])\n",
    "\n",
    "total = c11 + c12\n",
    "\n",
    "print(\"\\nClass 11 students:\")\n",
    "print(c11)\n",
    "\n",
    "print(\"\\nClass 12 students:\")\n",
    "print(c12)\n",
    "\n",
    "print(\"\\nTotal students stream-wise:\")\n",
    "print(total)\n",
    "\n",
    "print(\"\\nGrand total of students in class 11 and 12:\", total.sum())"
   ]
  },
  {
   "cell_type": "code",
   "execution_count": 81,
   "id": "b32bc5b9",
   "metadata": {},
   "outputs": [
    {
     "name": "stdout",
     "output_type": "stream",
     "text": [
      "Series S1:\n",
      " 0    10\n",
      "1    20\n",
      "2    30\n",
      "3    40\n",
      "4    50\n",
      "dtype: int64\n",
      "\n",
      "Series S2:\n",
      " 0    1\n",
      "1    2\n",
      "2    3\n",
      "3    4\n",
      "4    5\n",
      "5    6\n",
      "dtype: int64\n",
      "\n",
      "Series S3:\n",
      " a     3\n",
      "b     6\n",
      "c     9\n",
      "d    10\n",
      "e    11\n",
      "dtype: int64\n",
      "\n",
      "(i) S1 + S2:\n",
      "0    11.0\n",
      "1    22.0\n",
      "2    33.0\n",
      "3    44.0\n",
      "4    55.0\n",
      "5     NaN\n",
      "dtype: float64\n",
      "\n",
      "(ii) S1 * S3:\n",
      "0   NaN\n",
      "1   NaN\n",
      "2   NaN\n",
      "3   NaN\n",
      "4   NaN\n",
      "a   NaN\n",
      "b   NaN\n",
      "c   NaN\n",
      "d   NaN\n",
      "e   NaN\n",
      "dtype: float64\n",
      "\n",
      "(iii) S1 - S2:\n",
      "0     9.0\n",
      "1    18.0\n",
      "2    27.0\n",
      "3    36.0\n",
      "4    45.0\n",
      "5     NaN\n",
      "dtype: float64\n"
     ]
    }
   ],
   "source": [
    "#34\n",
    "S1 = pd.Series([10, 20, 30, 40, 50], index=[0, 1, 2, 3, 4])\n",
    "S2 = pd.Series([1, 2, 3, 4, 5, 6], index=[0, 1, 2, 3, 4, 5])\n",
    "S3 = pd.Series([3, 6, 9, 10, 11], index=['a', 'b', 'c', 'd', 'e'])\n",
    "\n",
    "print(\"Series S1:\\n\", S1)\n",
    "print(\"\\nSeries S2:\\n\", S2)\n",
    "print(\"\\nSeries S3:\\n\", S3)\n",
    "\n",
    "# i) S1 + S2\n",
    "print(\"\\n(i) S1 + S2:\")\n",
    "print(S1 + S2)\n",
    "\n",
    "# ii) S1 * S3\n",
    "print(\"\\n(ii) S1 * S3:\")\n",
    "print(S1 * S3)\n",
    "\n",
    "# iii) S1 - S2\n",
    "print(\"\\n(iii) S1 - S2:\")\n",
    "print(S1 - S2)"
   ]
  },
  {
   "cell_type": "code",
   "execution_count": 82,
   "id": "54caa0d8",
   "metadata": {},
   "outputs": [
    {
     "name": "stdout",
     "output_type": "stream",
     "text": [
      "Original Series:\n",
      "D    6700\n",
      "A    8000\n",
      "B    5400\n",
      "C    3400\n",
      "dtype: int64\n",
      "\n",
      "(i) Values sorted in descending order:\n",
      "A    8000\n",
      "D    6700\n",
      "B    5400\n",
      "C    3400\n",
      "dtype: int64\n",
      "\n",
      "(ii) Indices sorted in ascending order:\n",
      "A    8000\n",
      "B    5400\n",
      "C    3400\n",
      "D    6700\n",
      "dtype: int64\n"
     ]
    }
   ],
   "source": [
    "#35\n",
    "s12 = pd.Series([6700, 8000, 5400, 3400], \n",
    "                index=['D', 'A', 'B', 'C'])\n",
    "\n",
    "print(\"Original Series:\")\n",
    "print(s12)\n",
    "\n",
    "print(\"\\n(i) Values sorted in descending order:\")\n",
    "print(s12.sort_values(ascending=False))\n",
    "\n",
    "print(\"\\n(ii) Indices sorted in ascending order:\")\n",
    "print(s12.sort_index())\n"
   ]
  },
  {
   "cell_type": "code",
   "execution_count": 85,
   "id": "4966184c",
   "metadata": {},
   "outputs": [
    {
     "name": "stdout",
     "output_type": "stream",
     "text": [
      "Series with numeric index:\n",
      " 0    6700\n",
      "1    8000\n",
      "2    5400\n",
      "3    3400\n",
      "dtype: int64\n",
      "\n",
      "Series after reset_index:\n",
      " 0    6700\n",
      "1    8000\n",
      "2    5400\n",
      "3    3400\n",
      "dtype: int64\n"
     ]
    }
   ],
   "source": [
    "#36\n",
    "s13 = pd.Series([6700, 8000, 5400, 3400], index=['A', 'B', 'C', 'D'])  \n",
    "\n",
    "s13.index = range(0, 4)  \n",
    "print(\"Series with numeric index:\\n\", s13)  \n",
    "\n",
    "s13 = s13.reset_index(drop=True)  \n",
    "print(\"\\nSeries after reset_index:\\n\", s13)"
   ]
  },
  {
   "cell_type": "code",
   "execution_count": 86,
   "id": "39887fc9",
   "metadata": {},
   "outputs": [
    {
     "name": "stdout",
     "output_type": "stream",
     "text": [
      "Series1:\n",
      "0    7\n",
      "1    8\n",
      "2    9\n",
      "3    7\n",
      "4    8\n",
      "5    9\n",
      "dtype: int64\n",
      "\n",
      "Series2:\n",
      "0    14\n",
      "1    16\n",
      "2    18\n",
      "dtype: int64\n"
     ]
    }
   ],
   "source": [
    "#37\n",
    "first = [7, 8, 9]\n",
    "\n",
    "second = pd.Series(first)\n",
    "\n",
    "s1 = pd.Series(data=first*2)\n",
    "\n",
    "s2 = second * 2\n",
    "\n",
    "print(\"Series1:\")\n",
    "print(s1)\n",
    "\n",
    "print(\"\\nSeries2:\")\n",
    "print(s2)"
   ]
  },
  {
   "cell_type": "code",
   "execution_count": 91,
   "id": "8ec96bd6",
   "metadata": {},
   "outputs": [
    {
     "name": "stdout",
     "output_type": "stream",
     "text": [
      "First 4 elements:\n",
      "0    Mon\n",
      "1    Tue\n",
      "2    Wed\n",
      "3    Thu\n",
      "dtype: object\n",
      "\n",
      "Last 4 elements:\n",
      "3    Thu\n",
      "4    Fri\n",
      "5    Sat\n",
      "6    Sun\n",
      "dtype: object\n"
     ]
    }
   ],
   "source": [
    "#38\n",
    "data = np.array(['Mon', 'Tue', 'Wed', 'Thu', 'Fri', 'Sat', 'Sun'])\n",
    "\n",
    "s = pd.Series(data)\n",
    "\n",
    "print(\"First 4 elements:\")\n",
    "print(s[:4])\n",
    "\n",
    "print(\"\\nLast 4 elements:\")\n",
    "print(s[-4:])"
   ]
  },
  {
   "cell_type": "code",
   "execution_count": 92,
   "id": "dcc65f95",
   "metadata": {},
   "outputs": [
    {
     "name": "stdout",
     "output_type": "stream",
     "text": [
      "Selected elements:\n",
      "103    Wed\n",
      "105    Fri\n",
      "107    Sun\n",
      "dtype: object\n"
     ]
    }
   ],
   "source": [
    "#39\n",
    "data = np.array(['Mon', 'Tue', 'Wed', 'Thu', 'Fri', 'Sat', 'Sun'])\n",
    "\n",
    "s = pd.Series(data, index=[101, 102, 103, 104, 105, 106, 107])\n",
    "\n",
    "print(\"Selected elements:\")\n",
    "print(s[[103, 105, 107]])"
   ]
  },
  {
   "cell_type": "code",
   "execution_count": null,
   "id": "ef1351fe",
   "metadata": {},
   "outputs": [
    {
     "name": "stdout",
     "output_type": "stream",
     "text": [
      "b    11.0\n",
      "c    12.0\n",
      "d     NaN\n",
      "a    10.0\n",
      "dtype: float64\n"
     ]
    }
   ],
   "source": [
    "#40\n",
    "D={'a':10,'b':11,'c':12}\n",
    "S=pd.Series(D,index=['b','c','d','a'])\n",
    "print(S)"
   ]
  }
 ],
 "metadata": {
  "kernelspec": {
   "display_name": "Python 3",
   "language": "python",
   "name": "python3"
  },
  "language_info": {
   "codemirror_mode": {
    "name": "ipython",
    "version": 3
   },
   "file_extension": ".py",
   "mimetype": "text/x-python",
   "name": "python",
   "nbconvert_exporter": "python",
   "pygments_lexer": "ipython3",
   "version": "3.13.2"
  }
 },
 "nbformat": 4,
 "nbformat_minor": 5
}
