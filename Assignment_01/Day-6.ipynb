{
 "cells": [
  {
   "cell_type": "markdown",
   "id": "fea6bf52",
   "metadata": {},
   "source": [
    "#1 https://codeforces.com/problemset/problem/546/A"
   ]
  },
  {
   "cell_type": "code",
   "execution_count": 19,
   "id": "27f587b2",
   "metadata": {},
   "outputs": [
    {
     "name": "stdout",
     "output_type": "stream",
     "text": [
      "13\n"
     ]
    }
   ],
   "source": [
    "k, n, w = map(int, input().split())\n",
    "total_cost = k * (w * (w + 1)) // 2\n",
    "if total_cost > n:\n",
    "    print(total_cost - n)\n",
    "else:\n",
    "    print(0)"
   ]
  },
  {
   "cell_type": "markdown",
   "id": "6f4c207b",
   "metadata": {},
   "source": [
    "#2 https://www.hackerrank.com/challenges/py-if-else/problem"
   ]
  },
  {
   "cell_type": "code",
   "execution_count": null,
   "id": "fa930f71",
   "metadata": {},
   "outputs": [
    {
     "name": "stdout",
     "output_type": "stream",
     "text": [
      "Not Weird\n"
     ]
    }
   ],
   "source": [
    "n = int(input().strip())``\n",
    "\n",
    "# Apply conditions\n",
    "if n % 2 != 0:\n",
    "    print(\"Weird\")\n",
    "elif 2 <= n <= 5:\n",
    "    print(\"Not Weird\")\n",
    "elif 6 <= n <= 20:\n",
    "    print(\"Weird\")\n",
    "else:  # n > 20 and even\n",
    "    print(\"Not Weird\")"
   ]
  },
  {
   "cell_type": "markdown",
   "id": "593073cd",
   "metadata": {},
   "source": [
    "#3 https://www.hackerrank.com/challenges/py-hello-world/problem"
   ]
  },
  {
   "cell_type": "code",
   "execution_count": 26,
   "id": "152cacab",
   "metadata": {},
   "outputs": [
    {
     "name": "stdout",
     "output_type": "stream",
     "text": [
      "Hello, World!\n"
     ]
    }
   ],
   "source": [
    "print(\"Hello, World!\")"
   ]
  },
  {
   "cell_type": "markdown",
   "id": "39991c13",
   "metadata": {},
   "source": [
    "#4https://www.hackerrank.com/challenges/python-arithmetic-operators/problem"
   ]
  },
  {
   "cell_type": "code",
   "execution_count": 28,
   "id": "8495c159",
   "metadata": {},
   "outputs": [
    {
     "name": "stdout",
     "output_type": "stream",
     "text": [
      "11\n",
      "1\n",
      "30\n"
     ]
    }
   ],
   "source": [
    "a = int(input())\n",
    "b = int(input())\n",
    "print(a + b)\n",
    "print(a - b)\n",
    "print(a * b)"
   ]
  },
  {
   "cell_type": "markdown",
   "id": "b03a61fa",
   "metadata": {},
   "source": [
    "#5https://www.hackerrank.com/challenges/python-division/problem"
   ]
  },
  {
   "cell_type": "code",
   "execution_count": 29,
   "id": "b0bfb140",
   "metadata": {},
   "outputs": [
    {
     "name": "stdout",
     "output_type": "stream",
     "text": [
      "0\n",
      "0.6\n"
     ]
    }
   ],
   "source": [
    "a=3\n",
    "b=5\n",
    "print(a//b)\n",
    "print(a/b)"
   ]
  },
  {
   "cell_type": "markdown",
   "id": "edf72894",
   "metadata": {},
   "source": [
    "#6 https://www.hackerrank.com/challenges/python-loops/problem"
   ]
  },
  {
   "cell_type": "code",
   "execution_count": 30,
   "id": "1d1ef201",
   "metadata": {},
   "outputs": [
    {
     "name": "stdout",
     "output_type": "stream",
     "text": [
      "0\n",
      "1\n",
      "4\n",
      "9\n"
     ]
    }
   ],
   "source": [
    "n=4\n",
    "for i in range(n):\n",
    "    print(i*i)"
   ]
  },
  {
   "cell_type": "markdown",
   "id": "ccd75573",
   "metadata": {},
   "source": [
    "#8 https://codeforces.com/contest/791/problem/A"
   ]
  },
  {
   "cell_type": "code",
   "execution_count": 35,
   "id": "1b80a837",
   "metadata": {},
   "outputs": [
    {
     "name": "stdout",
     "output_type": "stream",
     "text": [
      "1\n"
     ]
    }
   ],
   "source": [
    "a, b = map(int, input().split())\n",
    "\n",
    "years = 0\n",
    "while a <= b:\n",
    "    a *= 3\n",
    "    b *= 2\n",
    "    years += 1\n",
    "\n",
    "print(years)"
   ]
  },
  {
   "cell_type": "markdown",
   "id": "cb5b2a66",
   "metadata": {},
   "source": [
    "#9 https://codeforces.com/contest/231/problem/A"
   ]
  },
  {
   "cell_type": "code",
   "execution_count": 39,
   "id": "122a2f1d",
   "metadata": {},
   "outputs": [
    {
     "name": "stdout",
     "output_type": "stream",
     "text": [
      "3\n"
     ]
    }
   ],
   "source": [
    "count = 0\n",
    "for _ in range(n):\n",
    "    friends = list(map(int, input().split()))\n",
    "    if sum(friends) >= 1:\n",
    "        count += 1\n",
    "print(count)"
   ]
  },
  {
   "cell_type": "markdown",
   "id": "784a8e27",
   "metadata": {},
   "source": [
    "#10 https://codeforces.com/contest/112/problem/A"
   ]
  },
  {
   "cell_type": "code",
   "execution_count": 50,
   "id": "57d0acd5",
   "metadata": {},
   "outputs": [
    {
     "name": "stdout",
     "output_type": "stream",
     "text": [
      "-1\n"
     ]
    }
   ],
   "source": [
    "s1 = input()\n",
    "s2 = input()\n",
    "s1_lower = s1.lower()\n",
    "s2_lower = s2.lower()\n",
    "if s1_lower < s2_lower:\n",
    "    print(-1)\n",
    "elif s1_lower > s2_lower:\n",
    "    print(1)\n",
    "else:\n",
    "    print(0)"
   ]
  }
 ],
 "metadata": {
  "kernelspec": {
   "display_name": "Python 3",
   "language": "python",
   "name": "python3"
  },
  "language_info": {
   "codemirror_mode": {
    "name": "ipython",
    "version": 3
   },
   "file_extension": ".py",
   "mimetype": "text/x-python",
   "name": "python",
   "nbconvert_exporter": "python",
   "pygments_lexer": "ipython3",
   "version": "3.13.2"
  }
 },
 "nbformat": 4,
 "nbformat_minor": 5
}
