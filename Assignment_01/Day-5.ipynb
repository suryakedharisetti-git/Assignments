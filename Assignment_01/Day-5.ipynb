{
 "cells": [
  {
   "cell_type": "code",
   "execution_count": 110,
   "id": "7045ca49",
   "metadata": {},
   "outputs": [
    {
     "name": "stdout",
     "output_type": "stream",
     "text": [
      "Some generic animal sound\n",
      "Bark\n",
      "5\n",
      "15\n",
      "30\n"
     ]
    }
   ],
   "source": [
    "#1. Explain with examples:\n",
    "#1a How method overriding is different from method overloading (Python’s version using default arguments or *args).\n",
    "#1b Which one Python actually supports directly?\n",
    " \n",
    " \n",
    "#1a Method Overriding:\n",
    "    #When a child class defines a method with the same name as in the parent class, it overrides the parent’s implementation.\n",
    "    #In Python it supports method overriding directly.\n",
    "class Animal:\n",
    "      def sound(self):\n",
    "        print(\"Some generic animal sound\")\n",
    "class Dog(Animal):\n",
    "      def sound(self): \n",
    "        print(\"Bark\")\n",
    "a = Animal()\n",
    "a.sound()   \n",
    "\n",
    "d = Dog()\n",
    "d.sound() \n",
    "     \n",
    "     \n",
    "#1b Method Overloading\n",
    "    #Having multiple methods with the same name but different parameters.\n",
    "    #Python Behavior: Unlike Java or C++, Python does not support method overloading directly.\n",
    "    #Instead, you can achieve similar behavior using default arguments or *args.\n",
    "class Calculator:\n",
    "  def add(self, a=0, b=0, c=0):\n",
    "        return a + b + c\n",
    "\n",
    "# Usage\n",
    "calc = Calculator()\n",
    "print(calc.add(5))          \n",
    "print(calc.add(5, 10))      \n",
    "print(calc.add(5, 10, 15))\n"
   ]
  },
  {
   "cell_type": "code",
   "execution_count": 125,
   "id": "b40d96dc",
   "metadata": {},
   "outputs": [
    {
     "name": "stdout",
     "output_type": "stream",
     "text": [
      "1500\n",
      "Vehicle started\n",
      "Car honks!\n",
      "78.5\n",
      "24\n",
      "Bike started with a kick\n"
     ]
    }
   ],
   "source": [
    "#2. Suppose you’re designing an E-commerce app. Describe how you would use:\n",
    "   #Encapsulation\n",
    "   #Inheritance\n",
    "   #Polymorphism\n",
    "   #Abstraction\n",
    "  #Give class examples for each.\n",
    "\n",
    "#Encapsulation:\n",
    "    #Encapsulation is the bundling of data and methods that operate on that data within a single unit or class.\n",
    "    #In an E-commerce app, you can encapsulate user details and order details within their respective classes.\n",
    "class BankAccount:\n",
    "    def __init__(self, balance):\n",
    "        self.__balance = balance   # private variable\n",
    "\n",
    "    def deposit(self, amount):\n",
    "        self.__balance += amount\n",
    "\n",
    "    def get_balance(self):\n",
    "        return self.__balance\n",
    "\n",
    "# Usage\n",
    "acc = BankAccount(1000)\n",
    "acc.deposit(500)\n",
    "print(acc.get_balance())     \n",
    "    \n",
    "#Inheritance:\n",
    "    #Inheritance allows a class to inherit attributes and methods from another class.           \n",
    "    #In an E-commerce app, you can have a base class Product and derived classes like Electronics and Clothing. \n",
    "\n",
    "class Vehicle:\n",
    "        def start(self):\n",
    "         print(\"Vehicle started\")\n",
    "class Car(Vehicle):   \n",
    "    def honk(self):\n",
    "        print(\"Car honks!\")\n",
    "\n",
    "c = Car()\n",
    "c.start()   \n",
    "c.honk()      #output:Vehicle started\n",
    "\n",
    "#Polymorphism:\n",
    "    #Polymorphism allows methods to do different things based on the object it is acting upon.\n",
    "    #In an E-commerce app, you can have a method calculate_discount that behaves differently for different product types.\n",
    "class Circle:\n",
    "    def area(self, radius):\n",
    "        return 3.14 * radius * radius\n",
    "    \n",
    "class Rectangle:\n",
    "    def area(self, length, width):\n",
    "        return length * width\n",
    "\n",
    "shapes = [Circle(), Rectangle()]\n",
    "print(shapes[0].area(5))        \n",
    "print(shapes[1].area(4, 6))     # Rectangle area → 24\n",
    "\n",
    "\n",
    "#Abstraction:\n",
    "    #Abstraction is the concept of hiding the complex implementation details and showing only the essential features of the object.     \n",
    "    #In an E-commerce app, you can have an abstract class Payment with abstract methods that must be implemented by subclasses like CreditCardPayment and PayPalPayment.\n",
    "\n",
    "class Vehicle(ABC):\n",
    "    @abstractmethod\n",
    "    def start(self):\n",
    "        pass\n",
    "class Bike(Vehicle):\n",
    "    def start(self):\n",
    "        print(\"Bike started with a kick\")\n",
    "\n",
    "# Usage\n",
    "b = Bike()\n",
    "b.start()   # Output: Bike started with a kick"
   ]
  },
  {
   "cell_type": "code",
   "execution_count": 81,
   "id": "23afa42d",
   "metadata": {},
   "outputs": [
    {
     "name": "stdout",
     "output_type": "stream",
     "text": [
      "Quack\n",
      "Bow bow\n"
     ]
    }
   ],
   "source": [
    "#3.What is duck typing in Python? Show with an example how polymorphism in Python supports duck typing.\n",
    "#  Definition: “If it looks like a duck, swims like a duck, and quacks like a duck, then it’s a duck.”\n",
    "#  In Python, we don’t care about the class type of an object.\n",
    "#  If the object has the required method/behavior, it will work.\n",
    "#  Duck Typing with Polymorphism Example\n",
    "class duck:\n",
    "    def sound(self):\n",
    "        print(\"Quack\")\n",
    "class Dog:\n",
    "    def sound(self):\n",
    "        print(\"Bow bow\")\n",
    "def make_it_sound(animal):\n",
    "    animal.sound()   \n",
    "d = Duck()\n",
    "g = Dog()\n",
    "make_it_sound(d)  \n",
    "make_it_sound(g)   "
   ]
  },
  {
   "cell_type": "code",
   "execution_count": 84,
   "id": "0ee42e77",
   "metadata": {},
   "outputs": [
    {
     "name": "stdout",
     "output_type": "stream",
     "text": [
      "Custom Exception Caught: Not enough balance!\n"
     ]
    }
   ],
   "source": [
    "#4 How do custom exceptions improve code readability and maintainability? Give one case where defining your own exception class is better than using built-in exceptions.\n",
    "\n",
    "#Clearer meaning → Instead of a generic ValueError or Exception, a custom exception name tells exactly what went wrong.\n",
    "#Easier debugging → When you see InsufficientFundsError, you instantly know it’s a banking issue, not some unrelated error.\n",
    "#Better control → You can catch only your custom exception while letting other exceptions propagate.\n",
    "#Consistency in large projects → Different modules can raise domain-specific exceptions, making error handling structured.\n",
    "#Imagine a banking system. If someone tries to withdraw more money than available:\n",
    "#Using a built-in exception (like ValueError) would be too generic.\n",
    "#Defining your own exception (InsufficientFundsError) makes the code self-explanatory.\n",
    "\n",
    "class InsufficientFundsError(Exception):\n",
    "    \"\"\"Raised when withdrawal amount exceeds balance\"\"\"\n",
    "    pass\n",
    "\n",
    "class BankAccount:\n",
    "    def __init__(self, balance):\n",
    "        self.balance = balance\n",
    "    def withdraw(self, amount):\n",
    "        if amount > self.balance:\n",
    "            raise InsufficientFundsError(\"Not enough balance!\")\n",
    "        self.balance -= amount\n",
    "        return self.balance\n",
    "try:\n",
    "    acc = BankAccount(1000)\n",
    "    acc.withdraw(1500)\n",
    "except InsufficientFundsError as e:\n",
    "    print(\"Custom Exception Caught:\", e)"
   ]
  },
  {
   "cell_type": "code",
   "execution_count": 88,
   "id": "48341eab",
   "metadata": {},
   "outputs": [
    {
     "name": "stdout",
     "output_type": "stream",
     "text": [
      "Vehicle starting...\n",
      "Engine starting...\n"
     ]
    }
   ],
   "source": [
    "#5. Compare composition vs inheritance. Give one scenario where you would prefer composition over inheritance.\n",
    "#Inheritance\n",
    "#\"Is-a\" relationship.\n",
    "#A child class inherits properties and methods from a parent class.\n",
    "#Promotes code reuse but can create tight coupling.\n",
    "class Vehicle:\n",
    "    def start(self):\n",
    "        print(\"Vehicle starting...\")\n",
    "\n",
    "class Car(Vehicle):  \n",
    "    pass\n",
    "\n",
    "c = Car()\n",
    "c.start()  \n",
    "#Composition\n",
    "#\"Has-a\" relationship.\n",
    "#A class contains objects of other classes to use their functionality.\n",
    "#More flexible, avoids deep inheritance chains.\n",
    "class Engine:\n",
    "    def start(self):\n",
    "        print(\"Engine starting...\")\n",
    "\n",
    "class Car:\n",
    "    def __init__(self):\n",
    "        self.engine = Engine()  \n",
    "\n",
    "    def start(self):\n",
    "        self.engine.start()\n",
    "\n",
    "c = Car()\n",
    "c.start()   # Output: Engine starting..."
   ]
  },
  {
   "cell_type": "code",
   "execution_count": 20,
   "id": "4a2df13f",
   "metadata": {},
   "outputs": [
    {
     "name": "stdout",
     "output_type": "stream",
     "text": [
      "Surya 40000\n",
      "Hari 24000\n",
      "pavan's Team:\n",
      "- Surya\n",
      "- Hari\n",
      "Surya 40000 Python\n"
     ]
    }
   ],
   "source": [
    "#6. Create a class hierarchy for Employees:\n",
    "#6a Base class Employee (name, salary).\n",
    "#6b Subclass Manager (manages list of employees).\n",
    "#6c Subclass Developer (programming_language).\n",
    "#   Demonstrate polymorphism by calling a work() method for different employees.\n",
    "\n",
    "class Employee:\n",
    "    def __init__(self, name, salary):\n",
    "        self.name = name\n",
    "        self.salary = salary\n",
    "class Developer(Employee):\n",
    "    pass\n",
    "class Manager(Employee):\n",
    "    pass\n",
    "dev = Developer(\"Surya\", 40000)\n",
    "mgr = Manager(\"Hari\", 24000)\n",
    "print(dev.name, dev.salary)\n",
    "print(mgr.name, mgr.salary)   \n",
    "\n",
    "#Subclass Manager (manages list of employees).\n",
    "class Employee:\n",
    "    def __init__(self, name):\n",
    "        self.name = name\n",
    "class Manager(Employee):\n",
    "    def __init__(self, name):\n",
    "        super().__init__(name)\n",
    "        self.team = []\n",
    "\n",
    "    def add_employee(self, emp):\n",
    "        self.team.append(emp)\n",
    "\n",
    "    def show_team(self):\n",
    "        print(f\"{self.name}'s Team:\")\n",
    "        for e in self.team:\n",
    "            print(f\"- {e.name}\")\n",
    "\n",
    "e1 = Employee(\"Surya\")\n",
    "e2 = Employee(\"Hari\")\n",
    "m1 = Manager(\"pavan\")\n",
    "m1.add_employee(e1)\n",
    "m1.add_employee(e2)\n",
    "m1.show_team()\n",
    "\n",
    "#Subclass Developer (programming_language).\n",
    "class Employee:\n",
    "    def __init__(self, name, salary):\n",
    "        self.name = name\n",
    "        self.salary = salary\n",
    "class Developer(Employee):\n",
    "    def __init__(self, name, salary, programming_language):\n",
    "        super().__init__(name, salary)\n",
    "        self.programming_language = programming_language\n",
    "\n",
    "# Usage\n",
    "dev1 = Developer(\"Surya\", 40000, \"Python\")\n",
    "print(dev1.name, dev1.salary, dev1.programming_language)\n"
   ]
  },
  {
   "cell_type": "code",
   "execution_count": 22,
   "id": "bc745904",
   "metadata": {},
   "outputs": [
    {
     "name": "stdout",
     "output_type": "stream",
     "text": [
      "Teaching students\n",
      "Conducting research\n",
      "[<class '__main__.Professor'>, <class '__main__.Teacher'>, <class '__main__.Researcher'>, <class 'object'>]\n"
     ]
    }
   ],
   "source": [
    "#7. Implement multiple inheritance in Python with a Teacher and Researcher class. Derive a Professor class that inherits from both. Show how MRO (Method Resolution Order) works in Python.\n",
    "class Teacher:\n",
    "    def teach(self):\n",
    "        print(\"Teaching students\")      \n",
    "class Researcher:\n",
    "    def research(self):\n",
    "        print(\"Conducting research\")\n",
    "class Professor(Teacher, Researcher):\n",
    "    def guide(self):\n",
    "        print(\"Guiding students and conducting research\")\n",
    "p = Professor() \n",
    "p.teach()\n",
    "p.research()\n",
    "#MRO (Method Resolution Order)\n",
    "print(Professor.mro())"
   ]
  },
  {
   "cell_type": "code",
   "execution_count": 24,
   "id": "44b552a7",
   "metadata": {},
   "outputs": [
    {
     "name": "stdout",
     "output_type": "stream",
     "text": [
      "Average Marks: 87.66666666666667\n",
      "Grade: Y\n"
     ]
    }
   ],
   "source": [
    "#8 Design a Student Grading System using OOP:\n",
    "#  Class Student with attributes name, roll, marks (dict).\n",
    "#  Methods: calculate_average(), get_grade().\n",
    "#  Use encapsulation to keep marks private.\n",
    "\n",
    "class Student:\n",
    "    def __init__(self, name, roll, marks):\n",
    "        self.name = name\n",
    "        self.roll = roll\n",
    "        self.__marks = marks  # Private attribute\n",
    "    def calculate_average(self):\n",
    "        total_marks = sum(self.__marks.values())\n",
    "        num_subjects = len(self.__marks)\n",
    "        return total_marks / num_subjects if num_subjects > 0 else 0\n",
    "    def get_grade(self):\n",
    "        average = self.calculate_average()\n",
    "        if average >= 95:\n",
    "            return 'X'\n",
    "        elif average >= 85:\n",
    "            return 'Y'\n",
    "        elif average >= 75:\n",
    "            return 'Z'\n",
    "        elif average >= 60:\n",
    "            return 'W'\n",
    "        else:\n",
    "            return 'A'\n",
    "# Usage\n",
    "marks = {'Math': 90, 'Science': 85, 'English': 88}\n",
    "student = Student(\"Surya\", 101, marks)\n",
    "print(f\"Average Marks: {student.calculate_average()}\")  \n",
    "print(f\"Grade: {student.get_grade()}\")\n"
   ]
  },
  {
   "cell_type": "code",
   "execution_count": 41,
   "id": "e4f417ee",
   "metadata": {},
   "outputs": [
    {
     "name": "stdout",
     "output_type": "stream",
     "text": [
      "Amount Paid 10000 using Credit Card\n",
      "Amount Paid 800 using UPI\n",
      "Amount Paid 350 using Wallet\n"
     ]
    }
   ],
   "source": [
    "#9 Create an abstract class Payment with abstract method pay(amount). Implement subclasses CreditCardPayment, UPIPayment, and WalletPayment. Simulate different payments.\n",
    "from abc import ABC, abstractmethod\n",
    "class Payment(ABC):\n",
    "    @abstractmethod\n",
    "    def pay(self, amount):\n",
    "        pass\n",
    "class CreditCardPayment(Payment):\n",
    "    def pay(self, amount):\n",
    "        print(f\"Amount Paid {amount} using Credit Card\")\n",
    "class UPIPayment(Payment):\n",
    "    def pay(self, amount):\n",
    "        print(f\"Amount Paid {amount} using UPI\")\n",
    "class WalletPayment(Payment):\n",
    "    def pay(self, amount):\n",
    "        print(f\"Amount Paid {amount} using Wallet\")\n",
    "        \n",
    "cc_payment = CreditCardPayment()    \n",
    "cc_payment.pay(10000)\n",
    "upi_payment = UPIPayment()          \n",
    "upi_payment.pay(800)\n",
    "wallet_payment = WalletPayment()\n",
    "wallet_payment.pay(350)"
   ]
  },
  {
   "cell_type": "code",
   "execution_count": 45,
   "id": "d3c9cda0",
   "metadata": {},
   "outputs": [
    {
     "name": "stdout",
     "output_type": "stream",
     "text": [
      "Balance left: 500\n",
      "Error: Not enough balance to withdraw!\n"
     ]
    }
   ],
   "source": [
    "#10 Define a custom exception InsufficientFundsError. Modify your BankAccount class so that withdrawing more than balance raises this exception. Handle it gracefully.\n",
    "class InsufficientFundsError(Exception):\n",
    "    pass\n",
    "class BankAccount:\n",
    "    def __init__(self, balance):\n",
    "        self.balance = balance\n",
    "    def withdraw(self, amount):\n",
    "        if amount > self.balance:\n",
    "            raise InsufficientFundsError(\"Not enough balance to withdraw!\")\n",
    "        self.balance -= amount\n",
    "        return self.balance\n",
    "    # Usage\n",
    "acc = BankAccount(1000)\n",
    "try:\n",
    "    print(\"Balance left:\", acc.withdraw(500))   # OK\n",
    "    print(\"Balance left:\", acc.withdraw(600))   # Too much\n",
    "except InsufficientFundsError as e:\n",
    "    print(\"Error:\", e)"
   ]
  },
  {
   "cell_type": "code",
   "execution_count": null,
   "id": "44cd23e3",
   "metadata": {},
   "outputs": [
    {
     "name": "stdout",
     "output_type": "stream",
     "text": [
      "Even number.\n",
      "Program ended.\n"
     ]
    }
   ],
   "source": [
    "#11. a) Demonstrate try-except-else-finally:\n",
    "#  Take a number from the user.\n",
    "#  If the number is even, print “Even number.”\n",
    "#  Else, print “Odd number.”\n",
    "#  Use except for invalid input and finally to print “Program ended.”\n",
    "try:\n",
    "    num = int(input(\"Enter a number: \"))\n",
    "    if num % 2 == 0:\n",
    "        print(\"Even number.\")\n",
    "    else:\n",
    "        print(\"Odd number.\")\n",
    "finally:        \n",
    "    print(\"Program ended.\")"
   ]
  },
  {
   "cell_type": "code",
   "execution_count": 90,
   "id": "d038f259",
   "metadata": {},
   "outputs": [
    {
     "name": "stdout",
     "output_type": "stream",
     "text": [
      "Your age is 13.\n"
     ]
    }
   ],
   "source": [
    "#11b.Create a program that asks the user for an age.\n",
    "#    If input is non-numeric → handle with ValueError.\n",
    "#    If age < 0 → raise NegativeAgeError.\n",
    "#    If age > 150 → raise UnrealisticAgeError.\n",
    "#    Else print valid age.\n",
    "class NegativeAgeError(Exception):\n",
    "    pass\n",
    "class UnrealisticAgeError(Exception):   \n",
    "    pass\n",
    "try:\n",
    "    age = int(input(\"Enter your age: \"))\n",
    "    if age < 0:\n",
    "        raise NegativeAgeError(\"Age cannot be negative!\")\n",
    "    elif age > 150:\n",
    "        raise UnrealisticAgeError(\"Age seems unrealistic!\")\n",
    "    else:\n",
    "        print(f\"Your age is {age}.\")\n",
    "except ValueError:\n",
    "    print(\"Invalid input! Please enter a numeric age.\")\n",
    "except (NegativeAgeError, UnrealisticAgeError) as e:\n",
    "    print(\"Error:\", e) \n",
    "\n"
   ]
  },
  {
   "cell_type": "code",
   "execution_count": 65,
   "id": "9061244d",
   "metadata": {},
   "outputs": [
    {
     "name": "stdout",
     "output_type": "stream",
     "text": [
      "You borrowed 'Python 101'\n",
      "You borrowed 'Python 101'\n",
      "'Python 100' is not available\n",
      "You returned 'Python 101'\n"
     ]
    }
   ],
   "source": [
    "#12 Implement a library management system:\n",
    "#   Class Book with attributes: title, author, copies.\n",
    "#   Class Library that manages a collection of books with methods: add_book, borrow_book, return_book.\n",
    "#   Use encapsulation to prevent direct modification of copies.\n",
    "class Book:\n",
    "    def __init__(self, title, author, copies):\n",
    "        self.title = title\n",
    "        self.author = author\n",
    "        self.__copies = copies   # private attribute\n",
    "\n",
    "    def get_copies(self):\n",
    "        return self.__copies\n",
    "\n",
    "    def borrow(self):\n",
    "        if self.__copies > 0:\n",
    "            self.__copies -= 1\n",
    "            return True\n",
    "        return False\n",
    "\n",
    "    def return_book(self):\n",
    "        self.__copies += 1\n",
    "class Library:\n",
    "    def __init__(self):\n",
    "        self.books = []\n",
    "\n",
    "    def add_book(self, book):\n",
    "        self.books.append(book)\n",
    "\n",
    "    def borrow_book(self, title):\n",
    "        for book in self.books:\n",
    "            if book.title == title and book.borrow():\n",
    "                print(f\"You borrowed '{title}'\")\n",
    "                return\n",
    "        print(f\"'{title}' is not available\")\n",
    "\n",
    "    def return_book(self, title):\n",
    "        for book in self.books:\n",
    "            if book.title == title:\n",
    "                book.return_book()\n",
    "                print(f\"You returned '{title}'\")\n",
    "                return\n",
    "b1 = Book(\"Python 101\", \"Harsha\", 2)\n",
    "b2 = Book(\"OOP Concepts\", \"Surya\", 1)\n",
    "lib = Library()\n",
    "lib.add_book(b1)\n",
    "lib.add_book(b2)\n",
    "lib.borrow_book(\"Python 101\")\n",
    "lib.borrow_book(\"Python 101\")\n",
    "lib.borrow_book(\"Python 100\")   # Not available\n",
    "lib.return_book(\"Python 101\")\n"
   ]
  },
  {
   "cell_type": "code",
   "execution_count": 70,
   "id": "94bb7313",
   "metadata": {},
   "outputs": [
    {
     "name": "stdout",
     "output_type": "stream",
     "text": [
      "Paid 4000 using Credit Card\n",
      "Paid 800 in Cash\n",
      "Paid 0.04 using Bitcoin\n"
     ]
    }
   ],
   "source": [
    "#13Write a program that uses polymorphism:\n",
    "#  Define a function process_payment(payment_method) which accepts any object with a pay() method.\n",
    "#  Pass in different classes (CreditCard, Cash, Bitcoin) without them sharing a common parent class. Demonstrate duck typing.\n",
    "class CreditCard:\n",
    "    def pay(self, amount):\n",
    "        print(f\"Paid {amount} using Credit Card\")\n",
    "class Cash:\n",
    "    def pay(self, amount):\n",
    "        print(f\"Paid {amount} in Cash\")\n",
    "class Bitcoin:  \n",
    "    def pay(self, amount):\n",
    "        print(f\"Paid {amount} using Bitcoin\")\n",
    "def process_payment(payment_method, amount):\n",
    "    payment_method.pay(amount)  \n",
    "cc = CreditCard()\n",
    "process_payment(cc, 4000)\n",
    "cash = Cash()\n",
    "process_payment(cash, 800)\n",
    "btc = Bitcoin()\n",
    "process_payment(btc, 0.04)\n"
   ]
  },
  {
   "cell_type": "code",
   "execution_count": 74,
   "id": "46f853fa",
   "metadata": {},
   "outputs": [
    {
     "name": "stdout",
     "output_type": "stream",
     "text": [
      "Invalid input! Please enter numeric values.\n",
      "Cleanup: End of program.\n"
     ]
    }
   ],
   "source": [
    "#14Create a program that demonstrates nested exception handling:\n",
    "#  Take two numbers as input.\n",
    "#  Handle ValueError if input is invalid.\n",
    "#  Handle ZeroDivisionError if divisor is zero.\n",
    "#  Always print a cleanup message.\n",
    "try:\n",
    "    try:\n",
    "        num1 = float(input(\"Enter numerator: \"))\n",
    "        num2 = float(input(\"Enter denominator: \"))\n",
    "        result = num1 / num2\n",
    "    except ValueError:\n",
    "        print(\"Invalid input! Please enter numeric values.\")\n",
    "    except ZeroDivisionError:\n",
    "        print(\"Error! Division by zero is not allowed.\")\n",
    "    else:\n",
    "        print(f\"Result: {result}\")\n",
    "finally:\n",
    "    print(\"Cleanup: End of program.\")\n",
    "    \n"
   ]
  }
 ],
 "metadata": {
  "kernelspec": {
   "display_name": "Python 3",
   "language": "python",
   "name": "python3"
  },
  "language_info": {
   "codemirror_mode": {
    "name": "ipython",
    "version": 3
   },
   "file_extension": ".py",
   "mimetype": "text/x-python",
   "name": "python",
   "nbconvert_exporter": "python",
   "pygments_lexer": "ipython3",
   "version": "3.13.2"
  }
 },
 "nbformat": 4,
 "nbformat_minor": 5
}
