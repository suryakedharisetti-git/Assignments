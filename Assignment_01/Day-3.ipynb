{
 "cells": [
  {
   "cell_type": "code",
   "execution_count": null,
   "id": "c2db463a",
   "metadata": {},
   "outputs": [
    {
     "name": "stdout",
     "output_type": "stream",
     "text": [
      "mean= 8.4\n",
      "median= 9\n",
      "staticmean 8.4\n",
      "staticmedian 9\n"
     ]
    }
   ],
   "source": [
    "#1.In Quiz 1 of a course the marks obtained by ten students are 12, 4, 5, 3, 8, 7, 10, 15, 9, 11. Write apython program to calculate the mean and median of the marks obtained by the students. Cross check the results by importing statistics module in python.\n",
    "marks = [12, 4, 5, 3, 8, 7, 10, 15, 9, 11]\n",
    "mean=(sum (marks)/len (marks))\n",
    "print(\"mean=\", mean)\n",
    "median= sorted(marks)[len(marks)//2]\n",
    "print(\"median=\", median)\n",
    "print(\"staticmean\", (mean))\n",
    "print(\"staticmedian\", (median))\n"
   ]
  },
  {
   "cell_type": "code",
   "execution_count": 5,
   "id": "1f08c7e4",
   "metadata": {},
   "outputs": [
    {
     "name": "stdout",
     "output_type": "stream",
     "text": [
      "Second largest number: 12\n"
     ]
    }
   ],
   "source": [
    "#2..Find the second largest number in a list without using sort().\n",
    "numbers=[12, 4, 5, 3, 8, 7, 10, 15, 9, 11]\n",
    "numbers.remove(max (numbers))\n",
    "second_largest=max(numbers)\n",
    "print(\"Second largest number:\", second_largest)"
   ]
  },
  {
   "cell_type": "code",
   "execution_count": 34,
   "id": "1f70b643",
   "metadata": {},
   "outputs": [
    {
     "name": "stdout",
     "output_type": "stream",
     "text": [
      "{2, 3, 5, 37, 7, 41, 11, 43, 13, 47, 17, 19, 23, 29, 31}\n"
     ]
    }
   ],
   "source": [
    "#3.Use sets to find all prime numbers between 1 and 50. Modify the code to take the maximum number from the user.\n",
    "set1=set()\n",
    "for i in range(1,50):\n",
    "    if i>1:\n",
    "        for j in range(2,i):\n",
    "            if(i%j==0):\n",
    "                break\n",
    "        else:\n",
    "            set1.add(i)\n",
    "print(set1)"
   ]
  },
  {
   "cell_type": "code",
   "execution_count": 3,
   "id": "985829e3",
   "metadata": {},
   "outputs": [
    {
     "name": "stdout",
     "output_type": "stream",
     "text": [
      "swapping without third var: a = 10 , b = 5\n",
      "swapping with third var: a = 5 , b = 10\n"
     ]
    }
   ],
   "source": [
    "#4.Write a python program to swap the values in two variables with and without using a third variable.\n",
    "\n",
    "a= 5\n",
    "b= 10\n",
    "a, b = b, a\n",
    "print(\"swapping without third var: a =\", a, \", b =\", b)\n",
    "var = a\n",
    "a = b\n",
    "b = var\n",
    "print(\"swapping with third var: a =\", a, \", b =\", b)"
   ]
  },
  {
   "cell_type": "code",
   "execution_count": 26,
   "id": "dfba0c18",
   "metadata": {},
   "outputs": [
    {
     "name": "stdout",
     "output_type": "stream",
     "text": [
      "Angle in degrees: 229.1831180523293\n"
     ]
    }
   ],
   "source": [
    "#5.Write a Python program that accepts a single numeric parameter representing an angle in radians to convert into degree.\n",
    "import math\n",
    "radians = float(input(\"Enter angle in radians: \"))\n",
    "degrees = math.degrees(radians)\n",
    "print(\"Angle in degrees:\", degrees)\n"
   ]
  },
  {
   "cell_type": "code",
   "execution_count": 10,
   "id": "1525abc6",
   "metadata": {},
   "outputs": [
    {
     "name": "stdout",
     "output_type": "stream",
     "text": [
      "\n"
     ]
    }
   ],
   "source": [
    "#6.Implement a Python program that calculates simple interest based on user input for the principal amount, rate of interest, and duration.\n",
    "def simpleinterest(principle, rate, time):\n",
    "    return (principle * rate * time) / 100\n",
    "print()"
   ]
  },
  {
   "cell_type": "code",
   "execution_count": 20,
   "id": "834e9423",
   "metadata": {},
   "outputs": [
    {
     "name": "stdout",
     "output_type": "stream",
     "text": [
      "f is a consonant.\n"
     ]
    }
   ],
   "source": [
    "#7.Create a Python program that takes a single character input and determines whether it is a vowel or consonant.\n",
    "char = input(\"Enter a single character: \").lower()\n",
    "if len(char) == 1 and char.isalpha():\n",
    "    if char in ['a', 'e', 'i', 'o', 'u']:\n",
    "        print(char, \"is a vowel.\")\n",
    "    else:\n",
    "        print(char, \"is a consonant.\")\n"
   ]
  },
  {
   "cell_type": "code",
   "execution_count": 27,
   "id": "3f0b37c5",
   "metadata": {},
   "outputs": [
    {
     "name": "stdout",
     "output_type": "stream",
     "text": [
      "The roots of the quadratic equation are: (-1+0j) and (-4+0j)\n"
     ]
    }
   ],
   "source": [
    "#8.Write a Python programme to solve a quadratic equation. The inputs shall be taken from the user.\n",
    "import cmath\n",
    "a = float(input(\"Enter coefficient a: \"))\n",
    "b = float(input(\"Enter coefficient b: \"))\n",
    "c = float(input(\"Enter coefficient c: \"))\n",
    "D = (b**2) - (4*a*c)\n",
    "root1 = (-b + cmath.sqrt(D)) / (2*a)\n",
    "root2 = (-b - cmath.sqrt(D)) / (2*a)\n",
    "\n",
    "print(\"The roots of the quadratic equation are:\", root1, \"and\", root2)"
   ]
  }
 ],
 "metadata": {
  "kernelspec": {
   "display_name": "Python 3",
   "language": "python",
   "name": "python3"
  },
  "language_info": {
   "codemirror_mode": {
    "name": "ipython",
    "version": 3
   },
   "file_extension": ".py",
   "mimetype": "text/x-python",
   "name": "python",
   "nbconvert_exporter": "python",
   "pygments_lexer": "ipython3",
   "version": "3.13.2"
  }
 },
 "nbformat": 4,
 "nbformat_minor": 5
}
