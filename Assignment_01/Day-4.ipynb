{
 "cells": [
  {
   "cell_type": "code",
   "execution_count": 104,
   "id": "848c96e3",
   "metadata": {},
   "outputs": [
    {
     "name": "stdout",
     "output_type": "stream",
     "text": [
      "Total Sales: 1035\n",
      "Average Sales: 147.85714285714286\n"
     ]
    }
   ],
   "source": [
    "#1. A company recorded daily sales for 7 days as [120, 135, 150, 160, 145, 170, 155].\n",
    "#1a ○ Write a program to compute the total and average sales.\n",
    "sales = [120, 135, 150, 160, 145, 170, 155]\n",
    "total_sales = sum(sales)\n",
    "average_sales = total_sales / len(sales)\n",
    "print(f\"Total Sales: {total_sales}\")    \n",
    "print(f\"Average Sales: {average_sales}\")"
   ]
  },
  {
   "cell_type": "code",
   "execution_count": null,
   "id": "0f693129",
   "metadata": {},
   "outputs": [
    {
     "name": "stdout",
     "output_type": "stream",
     "text": [
      "Weekdays Sales: [120, 135, 150, 160, 145]\n",
      "Weekend Sales: [170, 155]\n"
     ]
    }
   ],
   "source": [
    "#1b. Use list slicing to print sales for weekdays (first 5) and weekend (last 2).\n",
    "weekdays_sales = sales[:5]\n",
    "weekend_sales = sales[5:]\n",
    "print(f\"Weekdays Sales: {weekdays_sales}\")\n",
    "print(f\"Weekend Sales: {weekend_sales}\")\n"
   ]
  },
  {
   "cell_type": "code",
   "execution_count": 46,
   "id": "b8b05c56",
   "metadata": {},
   "outputs": [
    {
     "name": "stdout",
     "output_type": "stream",
     "text": [
      "Even Numbers: [2, 4, 6, 8, 10]\n"
     ]
    }
   ],
   "source": [
    "#2. Write a Python program that accepts a list of numbers from the user and prints a new list containing only the even numbers using a list comprehension.\n",
    "numbers_str = \"1 2 3 4 5 6 7 8 9 10\"\n",
    "numbers =[int(num) for num in numbers_str.split()]\n",
    "even_numbers =[num for num in numbers if num % 2 == 0]\n",
    "print(\"Even Numbers:\", even_numbers) "
   ]
  },
  {
   "cell_type": "code",
   "execution_count": 48,
   "id": "9ff7353c",
   "metadata": {},
   "outputs": [
    {
     "name": "stdout",
     "output_type": "stream",
     "text": [
      "Students more than 75: ['Alice', 'Clara', 'David']\n"
     ]
    }
   ],
   "source": [
    "#3.Given a dictionary of students and their marks: marks = {\"Alice\": 82, \"Bob\": 67, \"Clara\": 91, \"David\": 76}\n",
    "#3a. Print all student names who scored more than 75.\n",
    "marks = {\"Alice\": 82, \"Bob\": 67, \"Clara\": 91, \"David\": 76}\n",
    "high_scorers = [name for name, score in marks.items() if score > 75]\n",
    "print(\"Students more than 75:\", high_scorers)"
   ]
  },
  {
   "cell_type": "code",
   "execution_count": 24,
   "id": "fd86f112",
   "metadata": {},
   "outputs": [
    {
     "name": "stdout",
     "output_type": "stream",
     "text": [
      "Pass/Fail Dictionary: {'Alice': 'Pass', 'Bob': 'Fail', 'Clara': 'Pass', 'David': 'Pass'}\n"
     ]
    }
   ],
   "source": [
    "#3b. Create a new dictionary with student names as keys and \"Pass\"/\"Fail\" as values.\n",
    "pass_fail = {name: (\"Pass\" if score >= 75 else \"Fail\") for name, score in marks.items()}\n",
    "print(\"Pass/Fail Dictionary:\", pass_fail)\n"
   ]
  },
  {
   "cell_type": "code",
   "execution_count": 47,
   "id": "f3f8c3a9",
   "metadata": {},
   "outputs": [
    {
     "name": "stdout",
     "output_type": "stream",
     "text": [
      "Character Count using get(): {'p': 2, 'y': 1, 't': 1, 'h': 1, 'o': 2, 'n': 2, ' ': 1, 'r': 2, 'g': 2, 'a': 1, 'm': 2, 'i': 1}\n"
     ]
    }
   ],
   "source": [
    "#4.Create a program that counts how many times each character occurs in the string \"python programming\". Use both:\n",
    "#4a A regular dictionary with get()\n",
    "input_str = \"python programming\"\n",
    "char_count_dict = {}\n",
    "for char in input_str:\n",
    "    char_count_dict[char] = char_count_dict.get(char, 0) + 1\n",
    "print(\"Character Count using get():\", char_count_dict)\n"
   ]
  },
  {
   "cell_type": "code",
   "execution_count": 51,
   "id": "46c13f78",
   "metadata": {},
   "outputs": [
    {
     "name": "stdout",
     "output_type": "stream",
     "text": [
      "Character Count using defaultdict: {'p': 2, 'y': 1, 't': 1, 'h': 1, 'o': 2, 'n': 2, ' ': 1, 'r': 2, 'g': 2, 'a': 1, 'm': 2, 'i': 1}\n"
     ]
    }
   ],
   "source": [
    "#4b.a defaultdict(int)\n",
    "from collections import defaultdict\n",
    "char_count_defaultdict = defaultdict(int)\n",
    "for char in input_str:\n",
    "    char_count_defaultdict[char] += 1\n",
    "print(\"Character Count using defaultdict:\", dict(char_count_defaultdict))"
   ]
  },
  {
   "cell_type": "code",
   "execution_count": 55,
   "id": "d171a330",
   "metadata": {},
   "outputs": [
    {
     "name": "stdout",
     "output_type": "stream",
     "text": [
      "a=(a), b=(b), c=(c), d=(d), e=(e)\n"
     ]
    }
   ],
   "source": [
    "#5 Unpacks it into variables a, b, c, d, e.\n",
    "values = (10, 20, 30, 40, 50)\n",
    "a, b, c, d, e = values\n",
    "print(f\"a=(a), b=(b), c=(c), d=(d), e=(e)\")\n"
   ]
  },
  {
   "cell_type": "code",
   "execution_count": 56,
   "id": "d6494198",
   "metadata": {},
   "outputs": [
    {
     "name": "stdout",
     "output_type": "stream",
     "text": [
      "After Swapping: a=(a), b=(b), c=(c), d=(d), e=(e)\n"
     ]
    }
   ],
   "source": [
    "#5b Swaps the first and last values using tuple unpacking.\n",
    "a, b, c, d, e = e, b, c, d, a\n",
    "print(f\"After Swapping: a=(a), b=(b), c=(c), d=(d), e=(e)\") "
   ]
  },
  {
   "cell_type": "code",
   "execution_count": 57,
   "id": "15687f60",
   "metadata": {},
   "outputs": [
    {
     "name": "stdout",
     "output_type": "stream",
     "text": [
      "Original tuple: (10, 20, 30, 40, 50)\n",
      "Swapped tuple : (50, 20, 30, 40, 10)\n"
     ]
    }
   ],
   "source": [
    "values = (10, 20, 30, 40, 50)\n",
    "values_list = list(values)\n",
    "values_list[0], values_list[-1] = values_list[-1], values_list[0]\n",
    "swapped_values = tuple(values_list)\n",
    "print(\"Original tuple:\", values)\n",
    "print(\"Swapped tuple :\", swapped_values)"
   ]
  },
  {
   "cell_type": "code",
   "execution_count": null,
   "id": "46aae202",
   "metadata": {},
   "outputs": [
    {
     "name": "stdout",
     "output_type": "stream",
     "text": [
      "Students who play both games: {'Sara', 'Mike'}\n",
      "Students who play only one game: {'John', 'Emma', 'Bob', 'Tom'}\n"
     ]
    }
   ],
   "source": [
    "#6.Two sets represent students who play Cricket and Football:\n",
    "cricket = {\"John\", \"Mike\", \"Sara\", \"Bob\"}\n",
    "football = {\"Mike\", \"Tom\", \"Sara\", \"Emma\"}\n",
    "#6a Find students who play both games.\n",
    "#6b Find students who play only one game\n",
    "\n",
    "both_games = cricket.intersection(football)\n",
    "print(\"Students play both games:\", both_games)\n",
    "only_one_game = cricket.symmetric_difference(football)\n",
    "print(\"Students play only one game:\", only_one_game)"
   ]
  },
  {
   "cell_type": "code",
   "execution_count": 6,
   "id": "72616471",
   "metadata": {},
   "outputs": [
    {
     "name": "stdout",
     "output_type": "stream",
     "text": [
      "Factorial of 5 using loop: 120\n",
      "Factorial of 5 using recursion: 120\n"
     ]
    }
   ],
   "source": [
    "#7. Write a function factorial(n) that uses a loop to calculate factorial. Then write another version using recursion. Compare the results.\n",
    "def factorial_loop(n):\n",
    "    result = 1\n",
    "    for i in range(1, n+1):\n",
    "        result *= i\n",
    "    return result\n",
    "def factorial_recursive(n):\n",
    "    if n == 0 or n == 1:\n",
    "        return 1\n",
    "    else:\n",
    "        return n * factorial_recursive(n - 1)\n",
    "n = 5\n",
    "print(f\"Factorial of {n} using loop: {factorial_loop(n)}\")\n",
    "print(f\"Factorial of {n} using recursion: {factorial_recursive(n)}\")"
   ]
  },
  {
   "cell_type": "code",
   "execution_count": null,
   "id": "73648914",
   "metadata": {},
   "outputs": [
    {
     "name": "stdout",
     "output_type": "stream",
     "text": [
      "Positional arguments: (1, 2, 3, 4, 5)\n",
      "Number of positional arguments: 5\n",
      "Keyword arguments: {'name': 'Alice', 'age': 23, 'city': 'New York'}\n",
      "Number of keyword arguments: 3\n"
     ]
    }
   ],
   "source": [
    "#8.. Write a function student_info(*args, **kwargs) that:\n",
    "#8a Prints all positional arguments as a list.\n",
    "#8b Prints all keyword arguments as a dictionary. Call it with example inputs.\n",
    "varargs_func(1, 2, 3, 4, 5)\n",
    "def kwargs_func(**kwargs):\n",
    "    print(\"Keyword arguments:\", kwargs)\n",
    "    print(\"Number of keyword arguments:\", len(kwargs))\n",
    "kwargs_func(name=\"Alice\", age=23, city=\"New York\")"
   ]
  },
  {
   "cell_type": "code",
   "execution_count": 69,
   "id": "6a173911",
   "metadata": {},
   "outputs": [
    {
     "name": "stdout",
     "output_type": "stream",
     "text": [
      "1\n",
      "2\n",
      "3\n",
      "4\n",
      "5\n"
     ]
    }
   ],
   "source": [
    "#9.Write a closure function make_counter() that returns a function increment() which increases a count by 1 every time it is called. Demonstrate it by calling 5 times.\n",
    "def make_counter():\n",
    "    count = 0\n",
    "    def increment():\n",
    "        nonlocal count\n",
    "        count += 1\n",
    "        return count\n",
    "    return increment\n",
    "counter = make_counter()\n",
    "for _ in range(5):\n",
    "    print(counter())"
   ]
  },
  {
   "cell_type": "code",
   "execution_count": 78,
   "id": "9472f91c",
   "metadata": {},
   "outputs": [
    {
     "name": "stdout",
     "output_type": "stream",
     "text": [
      "Track visits called 10 times\n"
     ]
    }
   ],
   "source": [
    "#10 Use the global keyword to maintain a variable visits that counts how many times a function track_visits() has been called. Show its behavior.\n",
    "visits = 9\n",
    "def track_visits():\n",
    "    global visits\n",
    "    visits += 1\n",
    "    print(f\"Track visits called {visits} times\")\n",
    "track_visits()"
   ]
  },
  {
   "cell_type": "code",
   "execution_count": 84,
   "id": "78f73786",
   "metadata": {},
   "outputs": [
    {
     "name": "stdout",
     "output_type": "stream",
     "text": [
      "3.0\n"
     ]
    }
   ],
   "source": [
    "#11. Define a function with type hints:\n",
    "#def average(nums: list[float]) -> float:\n",
    "#It should return the average of the list values. Test it with both integers and floats.\n",
    "def average(nums: list[float]) -> float:\n",
    "    return sum(nums) / len(nums)\n",
    "print(average([1, 2, 3, 4, 5]))\n",
    "\n"
   ]
  },
  {
   "cell_type": "code",
   "execution_count": 86,
   "id": "7a13d193",
   "metadata": {},
   "outputs": [
    {
     "name": "stdout",
     "output_type": "stream",
     "text": [
      "Squares from 1 to 10: [1, 4, 9, 16, 25, 36, 49, 64, 81, 100]\n",
      "Cubes from 1 to 10: {1: 1, 2: 8, 3: 27, 4: 64, 5: 125, 6: 216, 7: 343, 8: 512, 9: 729, 10: 1000}\n",
      "Remainders when 1-20 divided by 5: {0, 1, 2, 3, 4}\n"
     ]
    }
   ],
   "source": [
    "#12. Write a Python program that:\n",
    "#12a Creates a list of squares from 1–10 using a list comprehension.\n",
    "#12b Creates a dictionary mapping numbers 1–10 to their cubes using a dictionary comprehension.\n",
    "#12c Creates a set of all remainders when numbers 1–20 are divided by 5 using a set comprehension.\n",
    "squares = [x**2 for x in range(1, 11)]\n",
    "print(\"Squares from 1 to 10:\", squares)\n",
    "cubes = {x: x**3 for x in range(1, 11)}\n",
    "print(\"Cubes from 1 to 10:\", cubes)\n",
    "remainders = {x % 5 for x in range(1, 21)}\n",
    "print(\"Remainders when 1-20 divided by 5:\", remainders)\n",
    "\n",
    "\n"
   ]
  },
  {
   "cell_type": "code",
   "execution_count": null,
   "id": "018ca67a",
   "metadata": {},
   "outputs": [
    {
     "name": "stdout",
     "output_type": "stream",
     "text": [
      "Error: dictionary changed size during iteration\n",
      "Updated dictionary: {'b': 2}\n"
     ]
    }
   ],
   "source": [
    "#13 Given the dictionary:\n",
    "d = {\"a\": 1, \"b\": 2, \"c\": 3}\n",
    "#Try deleting keys while iterating. Catch the error and then show the correct way using list(d.keys()).\n",
    "#error \n",
    "d = {\"a\": 1, \"b\": 2, \"c\": 3}\n",
    "try:\n",
    "    for key in d:\n",
    "        del d[key]\n",
    "except RuntimeError as e:\n",
    "    print(\"Error:\",e) \n",
    "          #correct way\n",
    "d = {\"a\": 1, \"b\": 2, \"c\": 3}\n",
    "\n",
    "for key in list(d.keys()):   \n",
    "    if d[key] % 2 == 1:    \n",
    "        del d[key]           \n",
    "\n",
    "print(\"Updated dictionary:\",d[key])\n"
   ]
  },
  {
   "cell_type": "code",
   "execution_count": 98,
   "id": "5b919b56",
   "metadata": {},
   "outputs": [
    {
     "name": "stdout",
     "output_type": "stream",
     "text": [
      "Flattened list: [1, 2, 3, 4, 5, 6]\n"
     ]
    }
   ],
   "source": [
    "#14. Write a Python program to flatten this nested list using a nested loop comprehension:\n",
    "#matrix = [[1, 2], [3, 4, 5], [6]]\n",
    "#Expected Output: [1, 2, 3, 4, 5, 6]\n",
    "matrix = [[1, 2], [3, 4, 5], [6]]\n",
    "flattened = [num for row in matrix for num in row]\n",
    "print(\"Flattened list:\", flattened)\n"
   ]
  },
  {
   "cell_type": "code",
   "execution_count": 102,
   "id": "982afe17",
   "metadata": {},
   "outputs": [
    {
     "name": "stdout",
     "output_type": "stream",
     "text": [
      "Most frequent word: wall Frequency: 4\n"
     ]
    }
   ],
   "source": [
    "#15.Create a program to find the most frequent word in a sentence entered by the user. Print the word and its frequency.\n",
    "sentence = \"cat is in wall wall is on ground wall build by worker wall made of bricks\"\n",
    "words = sentence.split()\n",
    "word_count = {} \n",
    "for word in words:\n",
    "    word_count[word] = word_count.get(word, 0) + 1\n",
    "most_frequent_word = max(word_count, key=word_count.get)\n",
    "print(\"Most frequent word:\", most_frequent_word, \"Frequency:\", word_count[most_frequent_word])"
   ]
  }
 ],
 "metadata": {
  "kernelspec": {
   "display_name": "Python 3",
   "language": "python",
   "name": "python3"
  },
  "language_info": {
   "codemirror_mode": {
    "name": "ipython",
    "version": 3
   },
   "file_extension": ".py",
   "mimetype": "text/x-python",
   "name": "python",
   "nbconvert_exporter": "python",
   "pygments_lexer": "ipython3",
   "version": "3.13.2"
  }
 },
 "nbformat": 4,
 "nbformat_minor": 5
}
