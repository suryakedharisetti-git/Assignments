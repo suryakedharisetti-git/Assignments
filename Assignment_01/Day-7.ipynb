{
 "cells": [
  {
   "cell_type": "code",
   "execution_count": 14,
   "id": "92b0e481",
   "metadata": {},
   "outputs": [
    {
     "name": "stdout",
     "output_type": "stream",
     "text": [
      "1\n",
      "<class 'numpy.ndarray'>\n",
      "(3,)\n",
      "1 2 3\n"
     ]
    }
   ],
   "source": [
    "#1\n",
    "import numpy as np\n",
    "a = np.array([1, 2, 3])\n",
    "var=np.linalg.matrix_rank([1,2,3])\n",
    "print(var)\n",
    "print(type(a))\n",
    "print(a.shape)\n",
    "print(a[0], a[1], a[2])\n",
    "a[0] = 5\n",
    "\n",
    "\n"
   ]
  },
  {
   "cell_type": "code",
   "execution_count": null,
   "id": "95bceac4",
   "metadata": {},
   "outputs": [
    {
     "name": "stdout",
     "output_type": "stream",
     "text": [
      "2\n",
      "(2, 3)\n",
      "1 2 4\n"
     ]
    }
   ],
   "source": [
    "#2 b = np.array([[1, 2, 3], [4, 5, 6]])\n",
    "import numpy as np\n",
    "b = np.array([[1, 2, 3], [4, 5, 6]])\n",
    "var=np.linalg.matrix_rank(b)\n",
    "print(var)\n",
    "print(b.shape)\n",
    "print(b[0, 0], b[0, 1], b[1, 0])\n"
   ]
  },
  {
   "cell_type": "code",
   "execution_count": 17,
   "id": "ab859add",
   "metadata": {},
   "outputs": [],
   "source": [
    "#3\n",
    "a= np.zeros((2,2))           # an array of all zeros\n",
    "b=np.ones((1,2))             # an array of all ones\n",
    "c=np.full((2,2), np.eye(2))  # a constatnt array\n",
    "d=np.eye(2)                  # a 2x2 array of random numbers\n",
    "e=np.random.random((2,2))    #an array filled with random values\n"
   ]
  },
  {
   "cell_type": "code",
   "execution_count": 18,
   "id": "27fa43c5",
   "metadata": {},
   "outputs": [
    {
     "name": "stdout",
     "output_type": "stream",
     "text": [
      "shape of a: (3, 4)\n",
      "shape of b: (2, 2)\n",
      "values in b:\n",
      " [[2 3]\n",
      " [6 7]]\n"
     ]
    }
   ],
   "source": [
    "#4 \n",
    "a =np.array([[1,2,3,4], [5,6,7,8], [9,10,11,12]])\n",
    "b =a[:2, 1:3]\n",
    "print(\"shape of a:\",a .shape)\n",
    "print(\"shape of b:\",b.shape)\n",
    "print(\"values in b:\\n\",b)"
   ]
  },
  {
   "cell_type": "code",
   "execution_count": 52,
   "id": "cc258bf3",
   "metadata": {},
   "outputs": [
    {
     "name": "stdout",
     "output_type": "stream",
     "text": [
      "2\n",
      "77\n"
     ]
    }
   ],
   "source": [
    "#5\n",
    "import numpy as np\n",
    "a = np.array([[1,2,3,4], \n",
    "              [5,6,7,8], \n",
    "              [9,10,11,12]])\n",
    "b = a[:2, 1:2]\n",
    "print(a[0, 1])   \n",
    "b[0, 0] = 77\n",
    "print(a[0, 1])  \n"
   ]
  },
  {
   "cell_type": "code",
   "execution_count": 20,
   "id": "c98b39e7",
   "metadata": {},
   "outputs": [
    {
     "name": "stdout",
     "output_type": "stream",
     "text": [
      "value or r1: [5 6 7 8] \n",
      "shape of r1: (4,)\n",
      "value or r2: [[5 6 7 8]] \n",
      "shape of r2: (1, 4)\n",
      "value or r1: [ 2  6 10] \n",
      "shape of r1: (3,)\n",
      "value or r2: [[ 2]\n",
      " [ 6]\n",
      " [10]] \n",
      "shape of r2: (3, 1)\n"
     ]
    }
   ],
   "source": [
    "#6\n",
    "a = np.array([[1,2,3,4], [5,6,7,8], [9,10,11,12]])\n",
    "row_r1 = a[1, :]\n",
    "row_r2 = a[1:2,:]\n",
    "print(\"value or r1:\",row_r1,\"\\nshape of r1:\",row_r1.shape)\n",
    "print(\"value or r2:\",row_r2,\"\\nshape of r2:\",row_r2.shape)\n",
    "col_r1 = a[:,1]\n",
    "col_r2 = a[:,1:2]\n",
    "print(\"value or r1:\",col_r1,\"\\nshape of r1:\",col_r1.shape)\n",
    "print(\"value or r2:\",col_r2,\"\\nshape of r2:\",col_r2.shape)"
   ]
  },
  {
   "cell_type": "code",
   "execution_count": 22,
   "id": "773042a3",
   "metadata": {},
   "outputs": [
    {
     "name": "stdout",
     "output_type": "stream",
     "text": [
      "[1 4 5]\n",
      "[1 4 5]\n"
     ]
    }
   ],
   "source": [
    "#7\n",
    "a = np.array([[1,2], [3, 4], [5, 6]])\n",
    "print(a[[0, 1, 2], [0, 1, 0]])\n",
    "print(np.array([a[0, 0], a[1, 1], a[2, 0]]))\n"
   ]
  },
  {
   "cell_type": "code",
   "execution_count": null,
   "id": "16dd4e52",
   "metadata": {},
   "outputs": [],
   "source": [
    "#8\n",
    "b = (a[0, 0],[1, 1])\n",
    "c = np.array([a[0, 1],a[0, 1]])\n"
   ]
  },
  {
   "cell_type": "code",
   "execution_count": 30,
   "id": "88bf6e1c",
   "metadata": {},
   "outputs": [
    {
     "name": "stdout",
     "output_type": "stream",
     "text": [
      "[ 1  6  7 11]\n",
      "[[11  2  3]\n",
      " [ 4  5 16]\n",
      " [17  8  9]\n",
      " [10 21 12]]\n"
     ]
    }
   ],
   "source": [
    "#9\n",
    "a= np.array([[1,2,3],[4,5,6],[7,8,9],[10,11,12]])\n",
    "b= np.array([0, 2, 0, 1])\n",
    "print(a[np.arange(4), b])\n",
    "a[np.arange(4), b] +=10\n",
    "print(a)\n"
   ]
  },
  {
   "cell_type": "code",
   "execution_count": 33,
   "id": "6f521a57",
   "metadata": {},
   "outputs": [
    {
     "name": "stdout",
     "output_type": "stream",
     "text": [
      "bool_index: [[False False]\n",
      " [ True  True]\n",
      " [ True  True]]\n",
      "bool_index of a: [3 4 5 6]\n",
      "[3 4 5 6]\n",
      "shape: (3, 2)\n"
     ]
    }
   ],
   "source": [
    "#10 \n",
    "a=np.array([[1,2], [3, 4], [5, 6]])\n",
    "bool_idx = (a > 2)\n",
    "print(\"bool_index:\",bool_idx)\n",
    "print(\"bool_index of a:\",a[bool_idx])\n",
    "print(a[a > 2])\n",
    "print(\"shape:\",a.shape)"
   ]
  },
  {
   "cell_type": "code",
   "execution_count": 34,
   "id": "82ef0816",
   "metadata": {},
   "outputs": [
    {
     "name": "stdout",
     "output_type": "stream",
     "text": [
      "int64\n",
      "float64\n",
      "int32\n"
     ]
    }
   ],
   "source": [
    "#11\n",
    "x = np.array([1, 2])\n",
    "print(x.dtype)\n",
    "y = np.array([1.0, 2.0])\n",
    "print(y.dtype)\n",
    "z = np.array([1, 2], dtype=np.int32)\n",
    "print(z.dtype)\n"
   ]
  },
  {
   "cell_type": "code",
   "execution_count": 35,
   "id": "a53fdbc9",
   "metadata": {},
   "outputs": [
    {
     "name": "stdout",
     "output_type": "stream",
     "text": [
      "[[ 6.  8.]\n",
      " [10. 12.]]\n",
      "[[ 6.  8.]\n",
      " [10. 12.]]\n",
      "[[-4. -4.]\n",
      " [-4. -4.]]\n",
      "[[-4. -4.]\n",
      " [-4. -4.]]\n",
      "[[ 5. 12.]\n",
      " [21. 32.]]\n",
      "[[ 5. 12.]\n",
      " [21. 32.]]\n",
      "[[0.2        0.33333333]\n",
      " [0.42857143 0.5       ]]\n",
      "[[0.2        0.33333333]\n",
      " [0.42857143 0.5       ]]\n",
      "[[1.         1.41421356]\n",
      " [1.73205081 2.        ]]\n"
     ]
    }
   ],
   "source": [
    "#12\n",
    "x=np.array([[1,2],[3,4]],dtype=np.float64)\n",
    "y= np.array([[5,6],[7,8]], dtype=np.float64)\n",
    " # Elementwise sum; both produce the array\n",
    "print(x + y)\n",
    "print(np.add(x, y))\n",
    " # Elementwise difference; both produce the array\n",
    "print(x - y)\n",
    "print(np.subtract(x, y))    \n",
    "# Elementwise product; both produce the array\n",
    "print(x * y)\n",
    "print(np.multiply(x, y))\n",
    "# Elementwise division; both produce the array\n",
    "print(x / y)    \n",
    "print(np.divide(x, y))\n",
    "# Elementwise square root; produces the array  \n",
    "print(np.sqrt(x))"
   ]
  },
  {
   "cell_type": "code",
   "execution_count": 36,
   "id": "04e95afe",
   "metadata": {},
   "outputs": [
    {
     "name": "stdout",
     "output_type": "stream",
     "text": [
      "219\n",
      "219\n"
     ]
    }
   ],
   "source": [
    "#13\n",
    "v=np.array([9,10])\n",
    "w=np.array([11, 12])\n",
    "print(v.dot(w))\n",
    "print(np.dot(v, w))\n"
   ]
  },
  {
   "cell_type": "code",
   "execution_count": 37,
   "id": "23fead79",
   "metadata": {},
   "outputs": [
    {
     "name": "stdout",
     "output_type": "stream",
     "text": [
      "[29 67]\n",
      "[105. 143.]\n"
     ]
    }
   ],
   "source": [
    "#14\n",
    "x = np.array([[1,2],[3,4]])\n",
    "print(x.dot(v))\n",
    "print(np.dot(y, v))\n"
   ]
  },
  {
   "cell_type": "code",
   "execution_count": null,
   "id": "39912cf5",
   "metadata": {},
   "outputs": [
    {
     "name": "stdout",
     "output_type": "stream",
     "text": [
      "10\n",
      "[4 6]\n",
      "[3 7]\n",
      "[[1 2 3]\n",
      " [3 4 5]]\n",
      "[[1 3]\n",
      " [2 4]\n",
      " [3 5]]\n"
     ]
    }
   ],
   "source": [
    "#15\n",
    "y = np.array([[5,6,7],[7,8,9]])\n",
    "x = np.array([[1,2],[3,4]])\n",
    "print(np.sum(x))                # Compute sum of all elements; prints \"10\"\n",
    "print(np.sum(x, axis=0))        #Compute sum of each column; prints \"[4 6]\"\n",
    "print(np.sum(x, axis=1))        #Compute sum of each row, prints\"[3 7]\"\n",
    "\n"
   ]
  },
  {
   "cell_type": "code",
   "execution_count": 41,
   "id": "6e5cabdb",
   "metadata": {},
   "outputs": [
    {
     "name": "stdout",
     "output_type": "stream",
     "text": [
      "[[1 2 3]\n",
      " [3 4 5]]\n",
      "[[1 3]\n",
      " [2 4]\n",
      " [3 5]]\n"
     ]
    }
   ],
   "source": [
    "#16\n",
    "x = np.array([[1,2,3], [3,4,5]])\n",
    "print(x)\n",
    "print(x.T)"
   ]
  },
  {
   "cell_type": "code",
   "execution_count": null,
   "id": "1ed78a92",
   "metadata": {},
   "outputs": [
    {
     "name": "stdout",
     "output_type": "stream",
     "text": [
      "[[ 2.  2.  4.]\n",
      " [ 5.  5.  7.]\n",
      " [ 8.  8. 10.]\n",
      " [11. 11. 13.]]\n"
     ]
    }
   ],
   "source": [
    "#17 \n",
    "x=np.array([[1,2,3],     \n",
    "            [4,5,6], \n",
    "            [7,8,9], \n",
    "            [10, 11, 12]])\n",
    "v=np.array([1,0,1])\n",
    "y=np.zeros(x.shape)\n",
    "for i in range(x.shape[0]):\n",
    "     for j in range(x.shape[1]):\n",
    "         y[i,j]= x[i, j] + v[j] \n",
    "print (y)\n"
   ]
  },
  {
   "cell_type": "code",
   "execution_count": 49,
   "id": "1307caeb",
   "metadata": {},
   "outputs": [
    {
     "name": "stdout",
     "output_type": "stream",
     "text": [
      "[[1 0 1]\n",
      " [1 0 1]\n",
      " [1 0 1]\n",
      " [1 0 1]]\n"
     ]
    }
   ],
   "source": [
    "#18 \n",
    "vv = np.tile(v, (4, 1))\n",
    "print(vv)\n"
   ]
  },
  {
   "cell_type": "code",
   "execution_count": 55,
   "id": "0874aa6c",
   "metadata": {},
   "outputs": [],
   "source": [
    "#19 \n",
    "x=np.array([[1,2,3], [4,5,6], [7,8,9], [10, 11, 12]])\n",
    "v=np.array([1,0, 1])\n",
    "y= x + v #add v to each row of x using broadcasting\n",
    "v=np.array([1,2,3])\n",
    "w=np.array([4,5])\n"
   ]
  },
  {
   "cell_type": "code",
   "execution_count": 56,
   "id": "860b7f66",
   "metadata": {},
   "outputs": [],
   "source": [
    "#20\n",
    "x = np.array([[1,2,3], [4,5,6]])"
   ]
  }
 ],
 "metadata": {
  "kernelspec": {
   "display_name": "Python 3",
   "language": "python",
   "name": "python3"
  },
  "language_info": {
   "codemirror_mode": {
    "name": "ipython",
    "version": 3
   },
   "file_extension": ".py",
   "mimetype": "text/x-python",
   "name": "python",
   "nbconvert_exporter": "python",
   "pygments_lexer": "ipython3",
   "version": "3.13.2"
  }
 },
 "nbformat": 4,
 "nbformat_minor": 5
}
