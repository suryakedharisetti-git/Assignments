{
 "cells": [
  {
   "cell_type": "code",
   "execution_count": null,
   "id": "5de84a3b",
   "metadata": {},
   "outputs": [
    {
     "name": "stdout",
     "output_type": "stream",
     "text": [
      "Python version: 3.13.5 | packaged by Anaconda, Inc. | (main, Jun 12 2025, 16:37:03) [MSC v.1929 64 bit (AMD64)]\n",
      "\n",
      "Please wait a moment while I gather a list of all available modules...\n",
      "\n"
     ]
    }
   ],
   "source": [
    "# Check Python version\n",
    "import sys\n",
    "print(\"Python version:\", sys.version)\n",
    " \n",
    "# Check installed modules\n",
    "help(\"modules\")\n",
    " \n",
    "# Quick version compare\n",
    "if sys.version_info >= (3, 10):\n",
    "    print(\"✅ You’re on a modern Python version!\")\n",
    "else:\n",
    "    print(\"⚠️ Consider Upgrading Python.\")"
   ]
  }
 ],
 "metadata": {
  "kernelspec": {
   "display_name": "base",
   "language": "python",
   "name": "python3"
  },
  "language_info": {
   "codemirror_mode": {
    "name": "ipython",
    "version": 3
   },
   "file_extension": ".py",
   "mimetype": "text/x-python",
   "name": "python",
   "nbconvert_exporter": "python",
   "pygments_lexer": "ipython3",
   "version": "3.13.5"
  }
 },
 "nbformat": 4,
 "nbformat_minor": 5
}
